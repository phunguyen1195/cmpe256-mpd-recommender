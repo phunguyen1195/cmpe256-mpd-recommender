{
  "nbformat": 4,
  "nbformat_minor": 0,
  "metadata": {
    "colab": {
      "provenance": [],
      "machine_shape": "hm"
    },
    "kernelspec": {
      "name": "python3",
      "display_name": "Python 3"
    },
    "language_info": {
      "name": "python"
    },
    "accelerator": "GPU",
    "gpuClass": "premium",
    "widgets": {
      "application/vnd.jupyter.widget-state+json": {
        "9326fa0909c7471fa64e670288817968": {
          "model_module": "@jupyter-widgets/controls",
          "model_name": "HBoxModel",
          "model_module_version": "1.5.0",
          "state": {
            "_dom_classes": [],
            "_model_module": "@jupyter-widgets/controls",
            "_model_module_version": "1.5.0",
            "_model_name": "HBoxModel",
            "_view_count": null,
            "_view_module": "@jupyter-widgets/controls",
            "_view_module_version": "1.5.0",
            "_view_name": "HBoxView",
            "box_style": "",
            "children": [
              "IPY_MODEL_fe80d8094e3645389bc455157dce56bb",
              "IPY_MODEL_ba5054aebe124c0aadbf91588632c96c",
              "IPY_MODEL_ada2540811f54c6caab39be40d0229ef"
            ],
            "layout": "IPY_MODEL_be08b4ea8d3542dcb48944fe69c4e56d"
          }
        },
        "fe80d8094e3645389bc455157dce56bb": {
          "model_module": "@jupyter-widgets/controls",
          "model_name": "HTMLModel",
          "model_module_version": "1.5.0",
          "state": {
            "_dom_classes": [],
            "_model_module": "@jupyter-widgets/controls",
            "_model_module_version": "1.5.0",
            "_model_name": "HTMLModel",
            "_view_count": null,
            "_view_module": "@jupyter-widgets/controls",
            "_view_module_version": "1.5.0",
            "_view_name": "HTMLView",
            "description": "",
            "description_tooltip": null,
            "layout": "IPY_MODEL_9b3c3f2ced4f4379b8e12139da12a94f",
            "placeholder": "​",
            "style": "IPY_MODEL_59cbe8b14f684495a20518b0bbfa94fe",
            "value": "100%"
          }
        },
        "ba5054aebe124c0aadbf91588632c96c": {
          "model_module": "@jupyter-widgets/controls",
          "model_name": "FloatProgressModel",
          "model_module_version": "1.5.0",
          "state": {
            "_dom_classes": [],
            "_model_module": "@jupyter-widgets/controls",
            "_model_module_version": "1.5.0",
            "_model_name": "FloatProgressModel",
            "_view_count": null,
            "_view_module": "@jupyter-widgets/controls",
            "_view_module_version": "1.5.0",
            "_view_name": "ProgressView",
            "bar_style": "success",
            "description": "",
            "description_tooltip": null,
            "layout": "IPY_MODEL_69cb50c06d8f40688ac502bda6b73b6c",
            "max": 50,
            "min": 0,
            "orientation": "horizontal",
            "style": "IPY_MODEL_e75719dabdc743cd9321a0ab29d2a6d0",
            "value": 50
          }
        },
        "ada2540811f54c6caab39be40d0229ef": {
          "model_module": "@jupyter-widgets/controls",
          "model_name": "HTMLModel",
          "model_module_version": "1.5.0",
          "state": {
            "_dom_classes": [],
            "_model_module": "@jupyter-widgets/controls",
            "_model_module_version": "1.5.0",
            "_model_name": "HTMLModel",
            "_view_count": null,
            "_view_module": "@jupyter-widgets/controls",
            "_view_module_version": "1.5.0",
            "_view_name": "HTMLView",
            "description": "",
            "description_tooltip": null,
            "layout": "IPY_MODEL_ecdab4268c844a2b8869332cad12cbbd",
            "placeholder": "​",
            "style": "IPY_MODEL_f466664edd80460887dc79b28a4ce6ef",
            "value": " 50/50 [00:00&lt;00:00, 111.95it/s]"
          }
        },
        "be08b4ea8d3542dcb48944fe69c4e56d": {
          "model_module": "@jupyter-widgets/base",
          "model_name": "LayoutModel",
          "model_module_version": "1.2.0",
          "state": {
            "_model_module": "@jupyter-widgets/base",
            "_model_module_version": "1.2.0",
            "_model_name": "LayoutModel",
            "_view_count": null,
            "_view_module": "@jupyter-widgets/base",
            "_view_module_version": "1.2.0",
            "_view_name": "LayoutView",
            "align_content": null,
            "align_items": null,
            "align_self": null,
            "border": null,
            "bottom": null,
            "display": null,
            "flex": null,
            "flex_flow": null,
            "grid_area": null,
            "grid_auto_columns": null,
            "grid_auto_flow": null,
            "grid_auto_rows": null,
            "grid_column": null,
            "grid_gap": null,
            "grid_row": null,
            "grid_template_areas": null,
            "grid_template_columns": null,
            "grid_template_rows": null,
            "height": null,
            "justify_content": null,
            "justify_items": null,
            "left": null,
            "margin": null,
            "max_height": null,
            "max_width": null,
            "min_height": null,
            "min_width": null,
            "object_fit": null,
            "object_position": null,
            "order": null,
            "overflow": null,
            "overflow_x": null,
            "overflow_y": null,
            "padding": null,
            "right": null,
            "top": null,
            "visibility": null,
            "width": null
          }
        },
        "9b3c3f2ced4f4379b8e12139da12a94f": {
          "model_module": "@jupyter-widgets/base",
          "model_name": "LayoutModel",
          "model_module_version": "1.2.0",
          "state": {
            "_model_module": "@jupyter-widgets/base",
            "_model_module_version": "1.2.0",
            "_model_name": "LayoutModel",
            "_view_count": null,
            "_view_module": "@jupyter-widgets/base",
            "_view_module_version": "1.2.0",
            "_view_name": "LayoutView",
            "align_content": null,
            "align_items": null,
            "align_self": null,
            "border": null,
            "bottom": null,
            "display": null,
            "flex": null,
            "flex_flow": null,
            "grid_area": null,
            "grid_auto_columns": null,
            "grid_auto_flow": null,
            "grid_auto_rows": null,
            "grid_column": null,
            "grid_gap": null,
            "grid_row": null,
            "grid_template_areas": null,
            "grid_template_columns": null,
            "grid_template_rows": null,
            "height": null,
            "justify_content": null,
            "justify_items": null,
            "left": null,
            "margin": null,
            "max_height": null,
            "max_width": null,
            "min_height": null,
            "min_width": null,
            "object_fit": null,
            "object_position": null,
            "order": null,
            "overflow": null,
            "overflow_x": null,
            "overflow_y": null,
            "padding": null,
            "right": null,
            "top": null,
            "visibility": null,
            "width": null
          }
        },
        "59cbe8b14f684495a20518b0bbfa94fe": {
          "model_module": "@jupyter-widgets/controls",
          "model_name": "DescriptionStyleModel",
          "model_module_version": "1.5.0",
          "state": {
            "_model_module": "@jupyter-widgets/controls",
            "_model_module_version": "1.5.0",
            "_model_name": "DescriptionStyleModel",
            "_view_count": null,
            "_view_module": "@jupyter-widgets/base",
            "_view_module_version": "1.2.0",
            "_view_name": "StyleView",
            "description_width": ""
          }
        },
        "69cb50c06d8f40688ac502bda6b73b6c": {
          "model_module": "@jupyter-widgets/base",
          "model_name": "LayoutModel",
          "model_module_version": "1.2.0",
          "state": {
            "_model_module": "@jupyter-widgets/base",
            "_model_module_version": "1.2.0",
            "_model_name": "LayoutModel",
            "_view_count": null,
            "_view_module": "@jupyter-widgets/base",
            "_view_module_version": "1.2.0",
            "_view_name": "LayoutView",
            "align_content": null,
            "align_items": null,
            "align_self": null,
            "border": null,
            "bottom": null,
            "display": null,
            "flex": null,
            "flex_flow": null,
            "grid_area": null,
            "grid_auto_columns": null,
            "grid_auto_flow": null,
            "grid_auto_rows": null,
            "grid_column": null,
            "grid_gap": null,
            "grid_row": null,
            "grid_template_areas": null,
            "grid_template_columns": null,
            "grid_template_rows": null,
            "height": null,
            "justify_content": null,
            "justify_items": null,
            "left": null,
            "margin": null,
            "max_height": null,
            "max_width": null,
            "min_height": null,
            "min_width": null,
            "object_fit": null,
            "object_position": null,
            "order": null,
            "overflow": null,
            "overflow_x": null,
            "overflow_y": null,
            "padding": null,
            "right": null,
            "top": null,
            "visibility": null,
            "width": null
          }
        },
        "e75719dabdc743cd9321a0ab29d2a6d0": {
          "model_module": "@jupyter-widgets/controls",
          "model_name": "ProgressStyleModel",
          "model_module_version": "1.5.0",
          "state": {
            "_model_module": "@jupyter-widgets/controls",
            "_model_module_version": "1.5.0",
            "_model_name": "ProgressStyleModel",
            "_view_count": null,
            "_view_module": "@jupyter-widgets/base",
            "_view_module_version": "1.2.0",
            "_view_name": "StyleView",
            "bar_color": null,
            "description_width": ""
          }
        },
        "ecdab4268c844a2b8869332cad12cbbd": {
          "model_module": "@jupyter-widgets/base",
          "model_name": "LayoutModel",
          "model_module_version": "1.2.0",
          "state": {
            "_model_module": "@jupyter-widgets/base",
            "_model_module_version": "1.2.0",
            "_model_name": "LayoutModel",
            "_view_count": null,
            "_view_module": "@jupyter-widgets/base",
            "_view_module_version": "1.2.0",
            "_view_name": "LayoutView",
            "align_content": null,
            "align_items": null,
            "align_self": null,
            "border": null,
            "bottom": null,
            "display": null,
            "flex": null,
            "flex_flow": null,
            "grid_area": null,
            "grid_auto_columns": null,
            "grid_auto_flow": null,
            "grid_auto_rows": null,
            "grid_column": null,
            "grid_gap": null,
            "grid_row": null,
            "grid_template_areas": null,
            "grid_template_columns": null,
            "grid_template_rows": null,
            "height": null,
            "justify_content": null,
            "justify_items": null,
            "left": null,
            "margin": null,
            "max_height": null,
            "max_width": null,
            "min_height": null,
            "min_width": null,
            "object_fit": null,
            "object_position": null,
            "order": null,
            "overflow": null,
            "overflow_x": null,
            "overflow_y": null,
            "padding": null,
            "right": null,
            "top": null,
            "visibility": null,
            "width": null
          }
        },
        "f466664edd80460887dc79b28a4ce6ef": {
          "model_module": "@jupyter-widgets/controls",
          "model_name": "DescriptionStyleModel",
          "model_module_version": "1.5.0",
          "state": {
            "_model_module": "@jupyter-widgets/controls",
            "_model_module_version": "1.5.0",
            "_model_name": "DescriptionStyleModel",
            "_view_count": null,
            "_view_module": "@jupyter-widgets/base",
            "_view_module_version": "1.2.0",
            "_view_name": "StyleView",
            "description_width": ""
          }
        },
        "a926bca322d941de9318aad62cb9f562": {
          "model_module": "@jupyter-widgets/controls",
          "model_name": "HBoxModel",
          "model_module_version": "1.5.0",
          "state": {
            "_dom_classes": [],
            "_model_module": "@jupyter-widgets/controls",
            "_model_module_version": "1.5.0",
            "_model_name": "HBoxModel",
            "_view_count": null,
            "_view_module": "@jupyter-widgets/controls",
            "_view_module_version": "1.5.0",
            "_view_name": "HBoxView",
            "box_style": "",
            "children": [
              "IPY_MODEL_10db850591b44b5ca8837377a1919642",
              "IPY_MODEL_bc08c7dcde484ecc96548532093ee4bd",
              "IPY_MODEL_a301bd01d4fd4a48a81a39cafe0b5517"
            ],
            "layout": "IPY_MODEL_74e9c6c9139949a28a3c38eeeb2fdc70"
          }
        },
        "10db850591b44b5ca8837377a1919642": {
          "model_module": "@jupyter-widgets/controls",
          "model_name": "HTMLModel",
          "model_module_version": "1.5.0",
          "state": {
            "_dom_classes": [],
            "_model_module": "@jupyter-widgets/controls",
            "_model_module_version": "1.5.0",
            "_model_name": "HTMLModel",
            "_view_count": null,
            "_view_module": "@jupyter-widgets/controls",
            "_view_module_version": "1.5.0",
            "_view_name": "HTMLView",
            "description": "",
            "description_tooltip": null,
            "layout": "IPY_MODEL_68630a55cee74b18a2c5907a49880a88",
            "placeholder": "​",
            "style": "IPY_MODEL_c1c5317ae2fa45c7b14b18f570f75aad",
            "value": "100%"
          }
        },
        "bc08c7dcde484ecc96548532093ee4bd": {
          "model_module": "@jupyter-widgets/controls",
          "model_name": "FloatProgressModel",
          "model_module_version": "1.5.0",
          "state": {
            "_dom_classes": [],
            "_model_module": "@jupyter-widgets/controls",
            "_model_module_version": "1.5.0",
            "_model_name": "FloatProgressModel",
            "_view_count": null,
            "_view_module": "@jupyter-widgets/controls",
            "_view_module_version": "1.5.0",
            "_view_name": "ProgressView",
            "bar_style": "success",
            "description": "",
            "description_tooltip": null,
            "layout": "IPY_MODEL_bbd96b2423454ead97c6e8236196105d",
            "max": 50,
            "min": 0,
            "orientation": "horizontal",
            "style": "IPY_MODEL_7ee7a920f4f4408d9d0d673a94824d49",
            "value": 50
          }
        },
        "a301bd01d4fd4a48a81a39cafe0b5517": {
          "model_module": "@jupyter-widgets/controls",
          "model_name": "HTMLModel",
          "model_module_version": "1.5.0",
          "state": {
            "_dom_classes": [],
            "_model_module": "@jupyter-widgets/controls",
            "_model_module_version": "1.5.0",
            "_model_name": "HTMLModel",
            "_view_count": null,
            "_view_module": "@jupyter-widgets/controls",
            "_view_module_version": "1.5.0",
            "_view_name": "HTMLView",
            "description": "",
            "description_tooltip": null,
            "layout": "IPY_MODEL_cdc2b922855f497c849d57a2b1ef42c6",
            "placeholder": "​",
            "style": "IPY_MODEL_b825c5e63b834e7a9bf7ec34dc0788d9",
            "value": " 50/50 [00:00&lt;00:00, 106.04it/s]"
          }
        },
        "74e9c6c9139949a28a3c38eeeb2fdc70": {
          "model_module": "@jupyter-widgets/base",
          "model_name": "LayoutModel",
          "model_module_version": "1.2.0",
          "state": {
            "_model_module": "@jupyter-widgets/base",
            "_model_module_version": "1.2.0",
            "_model_name": "LayoutModel",
            "_view_count": null,
            "_view_module": "@jupyter-widgets/base",
            "_view_module_version": "1.2.0",
            "_view_name": "LayoutView",
            "align_content": null,
            "align_items": null,
            "align_self": null,
            "border": null,
            "bottom": null,
            "display": null,
            "flex": null,
            "flex_flow": null,
            "grid_area": null,
            "grid_auto_columns": null,
            "grid_auto_flow": null,
            "grid_auto_rows": null,
            "grid_column": null,
            "grid_gap": null,
            "grid_row": null,
            "grid_template_areas": null,
            "grid_template_columns": null,
            "grid_template_rows": null,
            "height": null,
            "justify_content": null,
            "justify_items": null,
            "left": null,
            "margin": null,
            "max_height": null,
            "max_width": null,
            "min_height": null,
            "min_width": null,
            "object_fit": null,
            "object_position": null,
            "order": null,
            "overflow": null,
            "overflow_x": null,
            "overflow_y": null,
            "padding": null,
            "right": null,
            "top": null,
            "visibility": null,
            "width": null
          }
        },
        "68630a55cee74b18a2c5907a49880a88": {
          "model_module": "@jupyter-widgets/base",
          "model_name": "LayoutModel",
          "model_module_version": "1.2.0",
          "state": {
            "_model_module": "@jupyter-widgets/base",
            "_model_module_version": "1.2.0",
            "_model_name": "LayoutModel",
            "_view_count": null,
            "_view_module": "@jupyter-widgets/base",
            "_view_module_version": "1.2.0",
            "_view_name": "LayoutView",
            "align_content": null,
            "align_items": null,
            "align_self": null,
            "border": null,
            "bottom": null,
            "display": null,
            "flex": null,
            "flex_flow": null,
            "grid_area": null,
            "grid_auto_columns": null,
            "grid_auto_flow": null,
            "grid_auto_rows": null,
            "grid_column": null,
            "grid_gap": null,
            "grid_row": null,
            "grid_template_areas": null,
            "grid_template_columns": null,
            "grid_template_rows": null,
            "height": null,
            "justify_content": null,
            "justify_items": null,
            "left": null,
            "margin": null,
            "max_height": null,
            "max_width": null,
            "min_height": null,
            "min_width": null,
            "object_fit": null,
            "object_position": null,
            "order": null,
            "overflow": null,
            "overflow_x": null,
            "overflow_y": null,
            "padding": null,
            "right": null,
            "top": null,
            "visibility": null,
            "width": null
          }
        },
        "c1c5317ae2fa45c7b14b18f570f75aad": {
          "model_module": "@jupyter-widgets/controls",
          "model_name": "DescriptionStyleModel",
          "model_module_version": "1.5.0",
          "state": {
            "_model_module": "@jupyter-widgets/controls",
            "_model_module_version": "1.5.0",
            "_model_name": "DescriptionStyleModel",
            "_view_count": null,
            "_view_module": "@jupyter-widgets/base",
            "_view_module_version": "1.2.0",
            "_view_name": "StyleView",
            "description_width": ""
          }
        },
        "bbd96b2423454ead97c6e8236196105d": {
          "model_module": "@jupyter-widgets/base",
          "model_name": "LayoutModel",
          "model_module_version": "1.2.0",
          "state": {
            "_model_module": "@jupyter-widgets/base",
            "_model_module_version": "1.2.0",
            "_model_name": "LayoutModel",
            "_view_count": null,
            "_view_module": "@jupyter-widgets/base",
            "_view_module_version": "1.2.0",
            "_view_name": "LayoutView",
            "align_content": null,
            "align_items": null,
            "align_self": null,
            "border": null,
            "bottom": null,
            "display": null,
            "flex": null,
            "flex_flow": null,
            "grid_area": null,
            "grid_auto_columns": null,
            "grid_auto_flow": null,
            "grid_auto_rows": null,
            "grid_column": null,
            "grid_gap": null,
            "grid_row": null,
            "grid_template_areas": null,
            "grid_template_columns": null,
            "grid_template_rows": null,
            "height": null,
            "justify_content": null,
            "justify_items": null,
            "left": null,
            "margin": null,
            "max_height": null,
            "max_width": null,
            "min_height": null,
            "min_width": null,
            "object_fit": null,
            "object_position": null,
            "order": null,
            "overflow": null,
            "overflow_x": null,
            "overflow_y": null,
            "padding": null,
            "right": null,
            "top": null,
            "visibility": null,
            "width": null
          }
        },
        "7ee7a920f4f4408d9d0d673a94824d49": {
          "model_module": "@jupyter-widgets/controls",
          "model_name": "ProgressStyleModel",
          "model_module_version": "1.5.0",
          "state": {
            "_model_module": "@jupyter-widgets/controls",
            "_model_module_version": "1.5.0",
            "_model_name": "ProgressStyleModel",
            "_view_count": null,
            "_view_module": "@jupyter-widgets/base",
            "_view_module_version": "1.2.0",
            "_view_name": "StyleView",
            "bar_color": null,
            "description_width": ""
          }
        },
        "cdc2b922855f497c849d57a2b1ef42c6": {
          "model_module": "@jupyter-widgets/base",
          "model_name": "LayoutModel",
          "model_module_version": "1.2.0",
          "state": {
            "_model_module": "@jupyter-widgets/base",
            "_model_module_version": "1.2.0",
            "_model_name": "LayoutModel",
            "_view_count": null,
            "_view_module": "@jupyter-widgets/base",
            "_view_module_version": "1.2.0",
            "_view_name": "LayoutView",
            "align_content": null,
            "align_items": null,
            "align_self": null,
            "border": null,
            "bottom": null,
            "display": null,
            "flex": null,
            "flex_flow": null,
            "grid_area": null,
            "grid_auto_columns": null,
            "grid_auto_flow": null,
            "grid_auto_rows": null,
            "grid_column": null,
            "grid_gap": null,
            "grid_row": null,
            "grid_template_areas": null,
            "grid_template_columns": null,
            "grid_template_rows": null,
            "height": null,
            "justify_content": null,
            "justify_items": null,
            "left": null,
            "margin": null,
            "max_height": null,
            "max_width": null,
            "min_height": null,
            "min_width": null,
            "object_fit": null,
            "object_position": null,
            "order": null,
            "overflow": null,
            "overflow_x": null,
            "overflow_y": null,
            "padding": null,
            "right": null,
            "top": null,
            "visibility": null,
            "width": null
          }
        },
        "b825c5e63b834e7a9bf7ec34dc0788d9": {
          "model_module": "@jupyter-widgets/controls",
          "model_name": "DescriptionStyleModel",
          "model_module_version": "1.5.0",
          "state": {
            "_model_module": "@jupyter-widgets/controls",
            "_model_module_version": "1.5.0",
            "_model_name": "DescriptionStyleModel",
            "_view_count": null,
            "_view_module": "@jupyter-widgets/base",
            "_view_module_version": "1.2.0",
            "_view_name": "StyleView",
            "description_width": ""
          }
        },
        "ce1c374ef0db4dc69e6ef3700ecd480c": {
          "model_module": "@jupyter-widgets/controls",
          "model_name": "HBoxModel",
          "model_module_version": "1.5.0",
          "state": {
            "_dom_classes": [],
            "_model_module": "@jupyter-widgets/controls",
            "_model_module_version": "1.5.0",
            "_model_name": "HBoxModel",
            "_view_count": null,
            "_view_module": "@jupyter-widgets/controls",
            "_view_module_version": "1.5.0",
            "_view_name": "HBoxView",
            "box_style": "",
            "children": [
              "IPY_MODEL_a8d15f1fed264fdf92c1e74db6667b04",
              "IPY_MODEL_f9b321215729426682ca71ac3c27712f",
              "IPY_MODEL_de6fd36a1a524721ac909dd6fa6d255f"
            ],
            "layout": "IPY_MODEL_eb9f06a4b0bf4bee9a051e91e6055748"
          }
        },
        "a8d15f1fed264fdf92c1e74db6667b04": {
          "model_module": "@jupyter-widgets/controls",
          "model_name": "HTMLModel",
          "model_module_version": "1.5.0",
          "state": {
            "_dom_classes": [],
            "_model_module": "@jupyter-widgets/controls",
            "_model_module_version": "1.5.0",
            "_model_name": "HTMLModel",
            "_view_count": null,
            "_view_module": "@jupyter-widgets/controls",
            "_view_module_version": "1.5.0",
            "_view_name": "HTMLView",
            "description": "",
            "description_tooltip": null,
            "layout": "IPY_MODEL_8144c9c624f249548cfacd6504981882",
            "placeholder": "​",
            "style": "IPY_MODEL_45f3006bfd0e485ead1f6f0225848209",
            "value": "100%"
          }
        },
        "f9b321215729426682ca71ac3c27712f": {
          "model_module": "@jupyter-widgets/controls",
          "model_name": "FloatProgressModel",
          "model_module_version": "1.5.0",
          "state": {
            "_dom_classes": [],
            "_model_module": "@jupyter-widgets/controls",
            "_model_module_version": "1.5.0",
            "_model_name": "FloatProgressModel",
            "_view_count": null,
            "_view_module": "@jupyter-widgets/controls",
            "_view_module_version": "1.5.0",
            "_view_name": "ProgressView",
            "bar_style": "success",
            "description": "",
            "description_tooltip": null,
            "layout": "IPY_MODEL_ee1ef4aab90c462081f8e0e6ad725f2e",
            "max": 50,
            "min": 0,
            "orientation": "horizontal",
            "style": "IPY_MODEL_62f9f19da6044049b598882b0d9f7b1f",
            "value": 50
          }
        },
        "de6fd36a1a524721ac909dd6fa6d255f": {
          "model_module": "@jupyter-widgets/controls",
          "model_name": "HTMLModel",
          "model_module_version": "1.5.0",
          "state": {
            "_dom_classes": [],
            "_model_module": "@jupyter-widgets/controls",
            "_model_module_version": "1.5.0",
            "_model_name": "HTMLModel",
            "_view_count": null,
            "_view_module": "@jupyter-widgets/controls",
            "_view_module_version": "1.5.0",
            "_view_name": "HTMLView",
            "description": "",
            "description_tooltip": null,
            "layout": "IPY_MODEL_24667642780749aba3e7aa8f3776cf24",
            "placeholder": "​",
            "style": "IPY_MODEL_429adde8146947d6b3c82ca0a644abde",
            "value": " 50/50 [00:00&lt;00:00, 108.26it/s]"
          }
        },
        "eb9f06a4b0bf4bee9a051e91e6055748": {
          "model_module": "@jupyter-widgets/base",
          "model_name": "LayoutModel",
          "model_module_version": "1.2.0",
          "state": {
            "_model_module": "@jupyter-widgets/base",
            "_model_module_version": "1.2.0",
            "_model_name": "LayoutModel",
            "_view_count": null,
            "_view_module": "@jupyter-widgets/base",
            "_view_module_version": "1.2.0",
            "_view_name": "LayoutView",
            "align_content": null,
            "align_items": null,
            "align_self": null,
            "border": null,
            "bottom": null,
            "display": null,
            "flex": null,
            "flex_flow": null,
            "grid_area": null,
            "grid_auto_columns": null,
            "grid_auto_flow": null,
            "grid_auto_rows": null,
            "grid_column": null,
            "grid_gap": null,
            "grid_row": null,
            "grid_template_areas": null,
            "grid_template_columns": null,
            "grid_template_rows": null,
            "height": null,
            "justify_content": null,
            "justify_items": null,
            "left": null,
            "margin": null,
            "max_height": null,
            "max_width": null,
            "min_height": null,
            "min_width": null,
            "object_fit": null,
            "object_position": null,
            "order": null,
            "overflow": null,
            "overflow_x": null,
            "overflow_y": null,
            "padding": null,
            "right": null,
            "top": null,
            "visibility": null,
            "width": null
          }
        },
        "8144c9c624f249548cfacd6504981882": {
          "model_module": "@jupyter-widgets/base",
          "model_name": "LayoutModel",
          "model_module_version": "1.2.0",
          "state": {
            "_model_module": "@jupyter-widgets/base",
            "_model_module_version": "1.2.0",
            "_model_name": "LayoutModel",
            "_view_count": null,
            "_view_module": "@jupyter-widgets/base",
            "_view_module_version": "1.2.0",
            "_view_name": "LayoutView",
            "align_content": null,
            "align_items": null,
            "align_self": null,
            "border": null,
            "bottom": null,
            "display": null,
            "flex": null,
            "flex_flow": null,
            "grid_area": null,
            "grid_auto_columns": null,
            "grid_auto_flow": null,
            "grid_auto_rows": null,
            "grid_column": null,
            "grid_gap": null,
            "grid_row": null,
            "grid_template_areas": null,
            "grid_template_columns": null,
            "grid_template_rows": null,
            "height": null,
            "justify_content": null,
            "justify_items": null,
            "left": null,
            "margin": null,
            "max_height": null,
            "max_width": null,
            "min_height": null,
            "min_width": null,
            "object_fit": null,
            "object_position": null,
            "order": null,
            "overflow": null,
            "overflow_x": null,
            "overflow_y": null,
            "padding": null,
            "right": null,
            "top": null,
            "visibility": null,
            "width": null
          }
        },
        "45f3006bfd0e485ead1f6f0225848209": {
          "model_module": "@jupyter-widgets/controls",
          "model_name": "DescriptionStyleModel",
          "model_module_version": "1.5.0",
          "state": {
            "_model_module": "@jupyter-widgets/controls",
            "_model_module_version": "1.5.0",
            "_model_name": "DescriptionStyleModel",
            "_view_count": null,
            "_view_module": "@jupyter-widgets/base",
            "_view_module_version": "1.2.0",
            "_view_name": "StyleView",
            "description_width": ""
          }
        },
        "ee1ef4aab90c462081f8e0e6ad725f2e": {
          "model_module": "@jupyter-widgets/base",
          "model_name": "LayoutModel",
          "model_module_version": "1.2.0",
          "state": {
            "_model_module": "@jupyter-widgets/base",
            "_model_module_version": "1.2.0",
            "_model_name": "LayoutModel",
            "_view_count": null,
            "_view_module": "@jupyter-widgets/base",
            "_view_module_version": "1.2.0",
            "_view_name": "LayoutView",
            "align_content": null,
            "align_items": null,
            "align_self": null,
            "border": null,
            "bottom": null,
            "display": null,
            "flex": null,
            "flex_flow": null,
            "grid_area": null,
            "grid_auto_columns": null,
            "grid_auto_flow": null,
            "grid_auto_rows": null,
            "grid_column": null,
            "grid_gap": null,
            "grid_row": null,
            "grid_template_areas": null,
            "grid_template_columns": null,
            "grid_template_rows": null,
            "height": null,
            "justify_content": null,
            "justify_items": null,
            "left": null,
            "margin": null,
            "max_height": null,
            "max_width": null,
            "min_height": null,
            "min_width": null,
            "object_fit": null,
            "object_position": null,
            "order": null,
            "overflow": null,
            "overflow_x": null,
            "overflow_y": null,
            "padding": null,
            "right": null,
            "top": null,
            "visibility": null,
            "width": null
          }
        },
        "62f9f19da6044049b598882b0d9f7b1f": {
          "model_module": "@jupyter-widgets/controls",
          "model_name": "ProgressStyleModel",
          "model_module_version": "1.5.0",
          "state": {
            "_model_module": "@jupyter-widgets/controls",
            "_model_module_version": "1.5.0",
            "_model_name": "ProgressStyleModel",
            "_view_count": null,
            "_view_module": "@jupyter-widgets/base",
            "_view_module_version": "1.2.0",
            "_view_name": "StyleView",
            "bar_color": null,
            "description_width": ""
          }
        },
        "24667642780749aba3e7aa8f3776cf24": {
          "model_module": "@jupyter-widgets/base",
          "model_name": "LayoutModel",
          "model_module_version": "1.2.0",
          "state": {
            "_model_module": "@jupyter-widgets/base",
            "_model_module_version": "1.2.0",
            "_model_name": "LayoutModel",
            "_view_count": null,
            "_view_module": "@jupyter-widgets/base",
            "_view_module_version": "1.2.0",
            "_view_name": "LayoutView",
            "align_content": null,
            "align_items": null,
            "align_self": null,
            "border": null,
            "bottom": null,
            "display": null,
            "flex": null,
            "flex_flow": null,
            "grid_area": null,
            "grid_auto_columns": null,
            "grid_auto_flow": null,
            "grid_auto_rows": null,
            "grid_column": null,
            "grid_gap": null,
            "grid_row": null,
            "grid_template_areas": null,
            "grid_template_columns": null,
            "grid_template_rows": null,
            "height": null,
            "justify_content": null,
            "justify_items": null,
            "left": null,
            "margin": null,
            "max_height": null,
            "max_width": null,
            "min_height": null,
            "min_width": null,
            "object_fit": null,
            "object_position": null,
            "order": null,
            "overflow": null,
            "overflow_x": null,
            "overflow_y": null,
            "padding": null,
            "right": null,
            "top": null,
            "visibility": null,
            "width": null
          }
        },
        "429adde8146947d6b3c82ca0a644abde": {
          "model_module": "@jupyter-widgets/controls",
          "model_name": "DescriptionStyleModel",
          "model_module_version": "1.5.0",
          "state": {
            "_model_module": "@jupyter-widgets/controls",
            "_model_module_version": "1.5.0",
            "_model_name": "DescriptionStyleModel",
            "_view_count": null,
            "_view_module": "@jupyter-widgets/base",
            "_view_module_version": "1.2.0",
            "_view_name": "StyleView",
            "description_width": ""
          }
        }
      }
    }
  },
  "cells": [
    {
      "cell_type": "code",
      "execution_count": 1,
      "metadata": {
        "colab": {
          "base_uri": "https://localhost:8080/"
        },
        "id": "FBFC_4L75w-E",
        "outputId": "9bd4736c-d2af-4f2f-decb-ebd513ac5264"
      },
      "outputs": [
        {
          "output_type": "stream",
          "name": "stdout",
          "text": [
            "Looking in indexes: https://pypi.org/simple, https://us-python.pkg.dev/colab-wheels/public/simple/\n",
            "Collecting lightfm\n",
            "  Downloading lightfm-1.16.tar.gz (310 kB)\n",
            "\u001b[K     |████████████████████████████████| 310 kB 14.2 MB/s \n",
            "\u001b[?25hRequirement already satisfied: numpy in /usr/local/lib/python3.8/dist-packages (from lightfm) (1.21.6)\n",
            "Requirement already satisfied: scipy>=0.17.0 in /usr/local/lib/python3.8/dist-packages (from lightfm) (1.7.3)\n",
            "Requirement already satisfied: requests in /usr/local/lib/python3.8/dist-packages (from lightfm) (2.23.0)\n",
            "Requirement already satisfied: scikit-learn in /usr/local/lib/python3.8/dist-packages (from lightfm) (1.0.2)\n",
            "Requirement already satisfied: chardet<4,>=3.0.2 in /usr/local/lib/python3.8/dist-packages (from requests->lightfm) (3.0.4)\n",
            "Requirement already satisfied: certifi>=2017.4.17 in /usr/local/lib/python3.8/dist-packages (from requests->lightfm) (2022.9.24)\n",
            "Requirement already satisfied: idna<3,>=2.5 in /usr/local/lib/python3.8/dist-packages (from requests->lightfm) (2.10)\n",
            "Requirement already satisfied: urllib3!=1.25.0,!=1.25.1,<1.26,>=1.21.1 in /usr/local/lib/python3.8/dist-packages (from requests->lightfm) (1.24.3)\n",
            "Requirement already satisfied: joblib>=0.11 in /usr/local/lib/python3.8/dist-packages (from scikit-learn->lightfm) (1.2.0)\n",
            "Requirement already satisfied: threadpoolctl>=2.0.0 in /usr/local/lib/python3.8/dist-packages (from scikit-learn->lightfm) (3.1.0)\n",
            "Building wheels for collected packages: lightfm\n",
            "  Building wheel for lightfm (setup.py) ... \u001b[?25l\u001b[?25hdone\n",
            "  Created wheel for lightfm: filename=lightfm-1.16-cp38-cp38-linux_x86_64.whl size=747415 sha256=d313322685cb5b12685b9fd41c893acb7b3e241a466be9c112ba1e0e4a89d3bd\n",
            "  Stored in directory: /root/.cache/pip/wheels/ec/bb/51/9c487d021c1373b691d13cadca0b65b6852627b1f3f43550fa\n",
            "Successfully built lightfm\n",
            "Installing collected packages: lightfm\n",
            "Successfully installed lightfm-1.16\n",
            "Mounted at /content/drive\n"
          ]
        }
      ],
      "source": [
        "import numpy as np \n",
        "import pandas as pd \n",
        "import warnings\n",
        "warnings.simplefilter(action='ignore', category=FutureWarning)\n",
        "from scipy import sparse\n",
        "import random\n",
        "!pip install lightfm\n",
        "import lightfm \n",
        "from lightfm import LightFM, cross_validation\n",
        "from lightfm.evaluation import precision_at_k, auc_score\n",
        "from sklearn.metrics.pairwise import cosine_similarity\n",
        "from google.colab import drive\n",
        "drive.mount(\"/content/drive\")"
      ]
    },
    {
      "cell_type": "code",
      "source": [
        "# import pandas as pd\n",
        "# df=pd.read_csv('/content/drive/MyDrive/CMPE256/data_csv/mpd.slice.0-999.csv')\n",
        "# df.head(5)\n",
        "import glob\n",
        "import os\n",
        "\n",
        "path = r'/content/drive/MyDrive/CMPE256/data_csv/10slides' # use your path\n",
        "all_files = glob.glob(os.path.join(path, \"*.csv\"))\n",
        "\n",
        "df = pd.concat((pd.read_csv(f) for f in all_files), ignore_index=True)\n"
      ],
      "metadata": {
        "colab": {
          "base_uri": "https://localhost:8080/"
        },
        "id": "92QIDNHpKnjX",
        "outputId": "22e7dad2-b8bc-49b8-bd88-ab03155e93aa"
      },
      "execution_count": 2,
      "outputs": [
        {
          "output_type": "stream",
          "name": "stderr",
          "text": [
            "/usr/local/lib/python3.8/dist-packages/pandas/core/reshape/concat.py:348: DtypeWarning: Columns (18) have mixed types.Specify dtype option on import or set low_memory=False.\n",
            "  objs = list(objs)\n"
          ]
        }
      ]
    },
    {
      "cell_type": "code",
      "source": [
        "df"
      ],
      "metadata": {
        "colab": {
          "base_uri": "https://localhost:8080/",
          "height": 800
        },
        "id": "air9A7ugcRPz",
        "outputId": "daf27c97-7abd-411f-d747-6a9ff75ff510"
      },
      "execution_count": 3,
      "outputs": [
        {
          "output_type": "execute_result",
          "data": {
            "text/plain": [
              "        pos        artist_name                             track_uri  \\\n",
              "0         0      Missy Elliott  spotify:track:0UaMYEvWZi0ZqiDOoHU3YI   \n",
              "1         1     Britney Spears  spotify:track:6I9VzXrHxO9rA9A5euc8Ak   \n",
              "2         2            Beyoncé  spotify:track:0WqIKmW4BTrj3eJFmnCKMv   \n",
              "3         3  Justin Timberlake  spotify:track:1AWQoqb9bSvzTjaLralEkT   \n",
              "4         4             Shaggy  spotify:track:1lzr43nnXAijIGYnCT8M8H   \n",
              "...     ...                ...                                   ...   \n",
              "663897   21     Adventure Club  spotify:track:296fTW1CMX9j9mBRXKQMYi   \n",
              "663898   22     Adventure Club  spotify:track:5yQmKyKEdjtxFDPIK9mFLn   \n",
              "663899   23     Adventure Club  spotify:track:6D1kEYqdY4D3okAOfeKouI   \n",
              "663900   24     Adventure Club  spotify:track:3NAGKEkJN7cUTaIYqFnF8l   \n",
              "663901   25     Adventure Club  spotify:track:6U1NDB1DscqQUGSHJnNwLL   \n",
              "\n",
              "                                   artist_uri  \\\n",
              "0       spotify:artist:2wIVse2owClT7go1WT98tk   \n",
              "1       spotify:artist:26dSoYclwsYLMAKD3tpOr4   \n",
              "2       spotify:artist:6vWDO969PvNqNYHIOW5v0m   \n",
              "3       spotify:artist:31TPClRtHm23RisEBtV3X7   \n",
              "4       spotify:artist:5EvFsr3kj42KNv97ZEnqij   \n",
              "...                                       ...   \n",
              "663897  spotify:artist:5CdJjUi9f0cVgo9nFuJrFa   \n",
              "663898  spotify:artist:5CdJjUi9f0cVgo9nFuJrFa   \n",
              "663899  spotify:artist:5CdJjUi9f0cVgo9nFuJrFa   \n",
              "663900  spotify:artist:5CdJjUi9f0cVgo9nFuJrFa   \n",
              "663901  spotify:artist:5CdJjUi9f0cVgo9nFuJrFa   \n",
              "\n",
              "                                        track_name  \\\n",
              "0       Lose Control (feat. Ciara & Fat Man Scoop)   \n",
              "1                                            Toxic   \n",
              "2                                    Crazy In Love   \n",
              "3                                   Rock Your Body   \n",
              "4                                     It Wasn't Me   \n",
              "...                                            ...   \n",
              "663897                                 Thunderclap   \n",
              "663898                Rise & Fall (feat. Krewella)   \n",
              "663899              Limitless (feat. Delaney Jane)   \n",
              "663900      Crash 2.0 (Adventure Club vs. DallasK)   \n",
              "663901                              Do I See Color   \n",
              "\n",
              "                                   album_uri  duration_ms  \\\n",
              "0       spotify:album:6vV5UrXcfyQD1wu4Qo2I9K       226863   \n",
              "1       spotify:album:0z7pVBGOD7HCIB7S8eLkLI       198800   \n",
              "2       spotify:album:25hVFAxTlDvXbx2X2QkUkE       235933   \n",
              "3       spotify:album:6QPkyl04rXwTGlGlcYaRoW       267266   \n",
              "4       spotify:album:6NmFmPX56pcLBOFMhIiKvF       227600   \n",
              "...                                      ...          ...   \n",
              "663897  spotify:album:2DVyzKYzqlQo4uTJLVtvBt       273949   \n",
              "663898  spotify:album:5xkfX4DNx7hZYrGy8H1YUJ       361875   \n",
              "663899  spotify:album:45hTiiH7JpJx1P5TN6iDDG       244610   \n",
              "663900  spotify:album:45hTiiH7JpJx1P5TN6iDDG       254879   \n",
              "663901  spotify:album:1mQf3j7qaUMlsvfKOzuRMG       231267   \n",
              "\n",
              "                                          album_name  playlist_pid  \\\n",
              "0                                       The Cookbook             0   \n",
              "1                                        In The Zone             0   \n",
              "2       Dangerously In Love (Alben für die Ewigkeit)             0   \n",
              "3                                          Justified             0   \n",
              "4                                           Hot Shot             0   \n",
              "...                                              ...           ...   \n",
              "663897                       Calling All Heroes - EP          8999   \n",
              "663898                  Rise & Fall (feat. Krewella)          8999   \n",
              "663899                                   Red // Blue          8999   \n",
              "663900                                   Red // Blue          8999   \n",
              "663901                       Do I See Color - Single          8999   \n",
              "\n",
              "              name  collaborative  modified_at  num_tracks  num_albums  \\\n",
              "0       Throwbacks          False   1493424000          52          47   \n",
              "1       Throwbacks          False   1493424000          52          47   \n",
              "2       Throwbacks          False   1493424000          52          47   \n",
              "3       Throwbacks          False   1493424000          52          47   \n",
              "4       Throwbacks          False   1493424000          52          47   \n",
              "...            ...            ...          ...         ...         ...   \n",
              "663897     groovin          False   1465948800          26          18   \n",
              "663898     groovin          False   1465948800          26          18   \n",
              "663899     groovin          False   1465948800          26          18   \n",
              "663900     groovin          False   1465948800          26          18   \n",
              "663901     groovin          False   1465948800          26          18   \n",
              "\n",
              "        num_followers  num_edits  duration_ms_playlist  num_artists  \\\n",
              "0                   1          6              11532414           37   \n",
              "1                   1          6              11532414           37   \n",
              "2                   1          6              11532414           37   \n",
              "3                   1          6              11532414           37   \n",
              "4                   1          6              11532414           37   \n",
              "...               ...        ...                   ...          ...   \n",
              "663897              1          4               7001698           10   \n",
              "663898              1          4               7001698           10   \n",
              "663899              1          4               7001698           10   \n",
              "663900              1          4               7001698           10   \n",
              "663901              1          4               7001698           10   \n",
              "\n",
              "       description  \n",
              "0              NaN  \n",
              "1              NaN  \n",
              "2              NaN  \n",
              "3              NaN  \n",
              "4              NaN  \n",
              "...            ...  \n",
              "663897         NaN  \n",
              "663898         NaN  \n",
              "663899         NaN  \n",
              "663900         NaN  \n",
              "663901         NaN  \n",
              "\n",
              "[663902 rows x 19 columns]"
            ],
            "text/html": [
              "\n",
              "  <div id=\"df-e8b908e5-dfb5-46ea-a16b-683e19f4d384\">\n",
              "    <div class=\"colab-df-container\">\n",
              "      <div>\n",
              "<style scoped>\n",
              "    .dataframe tbody tr th:only-of-type {\n",
              "        vertical-align: middle;\n",
              "    }\n",
              "\n",
              "    .dataframe tbody tr th {\n",
              "        vertical-align: top;\n",
              "    }\n",
              "\n",
              "    .dataframe thead th {\n",
              "        text-align: right;\n",
              "    }\n",
              "</style>\n",
              "<table border=\"1\" class=\"dataframe\">\n",
              "  <thead>\n",
              "    <tr style=\"text-align: right;\">\n",
              "      <th></th>\n",
              "      <th>pos</th>\n",
              "      <th>artist_name</th>\n",
              "      <th>track_uri</th>\n",
              "      <th>artist_uri</th>\n",
              "      <th>track_name</th>\n",
              "      <th>album_uri</th>\n",
              "      <th>duration_ms</th>\n",
              "      <th>album_name</th>\n",
              "      <th>playlist_pid</th>\n",
              "      <th>name</th>\n",
              "      <th>collaborative</th>\n",
              "      <th>modified_at</th>\n",
              "      <th>num_tracks</th>\n",
              "      <th>num_albums</th>\n",
              "      <th>num_followers</th>\n",
              "      <th>num_edits</th>\n",
              "      <th>duration_ms_playlist</th>\n",
              "      <th>num_artists</th>\n",
              "      <th>description</th>\n",
              "    </tr>\n",
              "  </thead>\n",
              "  <tbody>\n",
              "    <tr>\n",
              "      <th>0</th>\n",
              "      <td>0</td>\n",
              "      <td>Missy Elliott</td>\n",
              "      <td>spotify:track:0UaMYEvWZi0ZqiDOoHU3YI</td>\n",
              "      <td>spotify:artist:2wIVse2owClT7go1WT98tk</td>\n",
              "      <td>Lose Control (feat. Ciara &amp; Fat Man Scoop)</td>\n",
              "      <td>spotify:album:6vV5UrXcfyQD1wu4Qo2I9K</td>\n",
              "      <td>226863</td>\n",
              "      <td>The Cookbook</td>\n",
              "      <td>0</td>\n",
              "      <td>Throwbacks</td>\n",
              "      <td>False</td>\n",
              "      <td>1493424000</td>\n",
              "      <td>52</td>\n",
              "      <td>47</td>\n",
              "      <td>1</td>\n",
              "      <td>6</td>\n",
              "      <td>11532414</td>\n",
              "      <td>37</td>\n",
              "      <td>NaN</td>\n",
              "    </tr>\n",
              "    <tr>\n",
              "      <th>1</th>\n",
              "      <td>1</td>\n",
              "      <td>Britney Spears</td>\n",
              "      <td>spotify:track:6I9VzXrHxO9rA9A5euc8Ak</td>\n",
              "      <td>spotify:artist:26dSoYclwsYLMAKD3tpOr4</td>\n",
              "      <td>Toxic</td>\n",
              "      <td>spotify:album:0z7pVBGOD7HCIB7S8eLkLI</td>\n",
              "      <td>198800</td>\n",
              "      <td>In The Zone</td>\n",
              "      <td>0</td>\n",
              "      <td>Throwbacks</td>\n",
              "      <td>False</td>\n",
              "      <td>1493424000</td>\n",
              "      <td>52</td>\n",
              "      <td>47</td>\n",
              "      <td>1</td>\n",
              "      <td>6</td>\n",
              "      <td>11532414</td>\n",
              "      <td>37</td>\n",
              "      <td>NaN</td>\n",
              "    </tr>\n",
              "    <tr>\n",
              "      <th>2</th>\n",
              "      <td>2</td>\n",
              "      <td>Beyoncé</td>\n",
              "      <td>spotify:track:0WqIKmW4BTrj3eJFmnCKMv</td>\n",
              "      <td>spotify:artist:6vWDO969PvNqNYHIOW5v0m</td>\n",
              "      <td>Crazy In Love</td>\n",
              "      <td>spotify:album:25hVFAxTlDvXbx2X2QkUkE</td>\n",
              "      <td>235933</td>\n",
              "      <td>Dangerously In Love (Alben für die Ewigkeit)</td>\n",
              "      <td>0</td>\n",
              "      <td>Throwbacks</td>\n",
              "      <td>False</td>\n",
              "      <td>1493424000</td>\n",
              "      <td>52</td>\n",
              "      <td>47</td>\n",
              "      <td>1</td>\n",
              "      <td>6</td>\n",
              "      <td>11532414</td>\n",
              "      <td>37</td>\n",
              "      <td>NaN</td>\n",
              "    </tr>\n",
              "    <tr>\n",
              "      <th>3</th>\n",
              "      <td>3</td>\n",
              "      <td>Justin Timberlake</td>\n",
              "      <td>spotify:track:1AWQoqb9bSvzTjaLralEkT</td>\n",
              "      <td>spotify:artist:31TPClRtHm23RisEBtV3X7</td>\n",
              "      <td>Rock Your Body</td>\n",
              "      <td>spotify:album:6QPkyl04rXwTGlGlcYaRoW</td>\n",
              "      <td>267266</td>\n",
              "      <td>Justified</td>\n",
              "      <td>0</td>\n",
              "      <td>Throwbacks</td>\n",
              "      <td>False</td>\n",
              "      <td>1493424000</td>\n",
              "      <td>52</td>\n",
              "      <td>47</td>\n",
              "      <td>1</td>\n",
              "      <td>6</td>\n",
              "      <td>11532414</td>\n",
              "      <td>37</td>\n",
              "      <td>NaN</td>\n",
              "    </tr>\n",
              "    <tr>\n",
              "      <th>4</th>\n",
              "      <td>4</td>\n",
              "      <td>Shaggy</td>\n",
              "      <td>spotify:track:1lzr43nnXAijIGYnCT8M8H</td>\n",
              "      <td>spotify:artist:5EvFsr3kj42KNv97ZEnqij</td>\n",
              "      <td>It Wasn't Me</td>\n",
              "      <td>spotify:album:6NmFmPX56pcLBOFMhIiKvF</td>\n",
              "      <td>227600</td>\n",
              "      <td>Hot Shot</td>\n",
              "      <td>0</td>\n",
              "      <td>Throwbacks</td>\n",
              "      <td>False</td>\n",
              "      <td>1493424000</td>\n",
              "      <td>52</td>\n",
              "      <td>47</td>\n",
              "      <td>1</td>\n",
              "      <td>6</td>\n",
              "      <td>11532414</td>\n",
              "      <td>37</td>\n",
              "      <td>NaN</td>\n",
              "    </tr>\n",
              "    <tr>\n",
              "      <th>...</th>\n",
              "      <td>...</td>\n",
              "      <td>...</td>\n",
              "      <td>...</td>\n",
              "      <td>...</td>\n",
              "      <td>...</td>\n",
              "      <td>...</td>\n",
              "      <td>...</td>\n",
              "      <td>...</td>\n",
              "      <td>...</td>\n",
              "      <td>...</td>\n",
              "      <td>...</td>\n",
              "      <td>...</td>\n",
              "      <td>...</td>\n",
              "      <td>...</td>\n",
              "      <td>...</td>\n",
              "      <td>...</td>\n",
              "      <td>...</td>\n",
              "      <td>...</td>\n",
              "      <td>...</td>\n",
              "    </tr>\n",
              "    <tr>\n",
              "      <th>663897</th>\n",
              "      <td>21</td>\n",
              "      <td>Adventure Club</td>\n",
              "      <td>spotify:track:296fTW1CMX9j9mBRXKQMYi</td>\n",
              "      <td>spotify:artist:5CdJjUi9f0cVgo9nFuJrFa</td>\n",
              "      <td>Thunderclap</td>\n",
              "      <td>spotify:album:2DVyzKYzqlQo4uTJLVtvBt</td>\n",
              "      <td>273949</td>\n",
              "      <td>Calling All Heroes - EP</td>\n",
              "      <td>8999</td>\n",
              "      <td>groovin</td>\n",
              "      <td>False</td>\n",
              "      <td>1465948800</td>\n",
              "      <td>26</td>\n",
              "      <td>18</td>\n",
              "      <td>1</td>\n",
              "      <td>4</td>\n",
              "      <td>7001698</td>\n",
              "      <td>10</td>\n",
              "      <td>NaN</td>\n",
              "    </tr>\n",
              "    <tr>\n",
              "      <th>663898</th>\n",
              "      <td>22</td>\n",
              "      <td>Adventure Club</td>\n",
              "      <td>spotify:track:5yQmKyKEdjtxFDPIK9mFLn</td>\n",
              "      <td>spotify:artist:5CdJjUi9f0cVgo9nFuJrFa</td>\n",
              "      <td>Rise &amp; Fall (feat. Krewella)</td>\n",
              "      <td>spotify:album:5xkfX4DNx7hZYrGy8H1YUJ</td>\n",
              "      <td>361875</td>\n",
              "      <td>Rise &amp; Fall (feat. Krewella)</td>\n",
              "      <td>8999</td>\n",
              "      <td>groovin</td>\n",
              "      <td>False</td>\n",
              "      <td>1465948800</td>\n",
              "      <td>26</td>\n",
              "      <td>18</td>\n",
              "      <td>1</td>\n",
              "      <td>4</td>\n",
              "      <td>7001698</td>\n",
              "      <td>10</td>\n",
              "      <td>NaN</td>\n",
              "    </tr>\n",
              "    <tr>\n",
              "      <th>663899</th>\n",
              "      <td>23</td>\n",
              "      <td>Adventure Club</td>\n",
              "      <td>spotify:track:6D1kEYqdY4D3okAOfeKouI</td>\n",
              "      <td>spotify:artist:5CdJjUi9f0cVgo9nFuJrFa</td>\n",
              "      <td>Limitless (feat. Delaney Jane)</td>\n",
              "      <td>spotify:album:45hTiiH7JpJx1P5TN6iDDG</td>\n",
              "      <td>244610</td>\n",
              "      <td>Red // Blue</td>\n",
              "      <td>8999</td>\n",
              "      <td>groovin</td>\n",
              "      <td>False</td>\n",
              "      <td>1465948800</td>\n",
              "      <td>26</td>\n",
              "      <td>18</td>\n",
              "      <td>1</td>\n",
              "      <td>4</td>\n",
              "      <td>7001698</td>\n",
              "      <td>10</td>\n",
              "      <td>NaN</td>\n",
              "    </tr>\n",
              "    <tr>\n",
              "      <th>663900</th>\n",
              "      <td>24</td>\n",
              "      <td>Adventure Club</td>\n",
              "      <td>spotify:track:3NAGKEkJN7cUTaIYqFnF8l</td>\n",
              "      <td>spotify:artist:5CdJjUi9f0cVgo9nFuJrFa</td>\n",
              "      <td>Crash 2.0 (Adventure Club vs. DallasK)</td>\n",
              "      <td>spotify:album:45hTiiH7JpJx1P5TN6iDDG</td>\n",
              "      <td>254879</td>\n",
              "      <td>Red // Blue</td>\n",
              "      <td>8999</td>\n",
              "      <td>groovin</td>\n",
              "      <td>False</td>\n",
              "      <td>1465948800</td>\n",
              "      <td>26</td>\n",
              "      <td>18</td>\n",
              "      <td>1</td>\n",
              "      <td>4</td>\n",
              "      <td>7001698</td>\n",
              "      <td>10</td>\n",
              "      <td>NaN</td>\n",
              "    </tr>\n",
              "    <tr>\n",
              "      <th>663901</th>\n",
              "      <td>25</td>\n",
              "      <td>Adventure Club</td>\n",
              "      <td>spotify:track:6U1NDB1DscqQUGSHJnNwLL</td>\n",
              "      <td>spotify:artist:5CdJjUi9f0cVgo9nFuJrFa</td>\n",
              "      <td>Do I See Color</td>\n",
              "      <td>spotify:album:1mQf3j7qaUMlsvfKOzuRMG</td>\n",
              "      <td>231267</td>\n",
              "      <td>Do I See Color - Single</td>\n",
              "      <td>8999</td>\n",
              "      <td>groovin</td>\n",
              "      <td>False</td>\n",
              "      <td>1465948800</td>\n",
              "      <td>26</td>\n",
              "      <td>18</td>\n",
              "      <td>1</td>\n",
              "      <td>4</td>\n",
              "      <td>7001698</td>\n",
              "      <td>10</td>\n",
              "      <td>NaN</td>\n",
              "    </tr>\n",
              "  </tbody>\n",
              "</table>\n",
              "<p>663902 rows × 19 columns</p>\n",
              "</div>\n",
              "      <button class=\"colab-df-convert\" onclick=\"convertToInteractive('df-e8b908e5-dfb5-46ea-a16b-683e19f4d384')\"\n",
              "              title=\"Convert this dataframe to an interactive table.\"\n",
              "              style=\"display:none;\">\n",
              "        \n",
              "  <svg xmlns=\"http://www.w3.org/2000/svg\" height=\"24px\"viewBox=\"0 0 24 24\"\n",
              "       width=\"24px\">\n",
              "    <path d=\"M0 0h24v24H0V0z\" fill=\"none\"/>\n",
              "    <path d=\"M18.56 5.44l.94 2.06.94-2.06 2.06-.94-2.06-.94-.94-2.06-.94 2.06-2.06.94zm-11 1L8.5 8.5l.94-2.06 2.06-.94-2.06-.94L8.5 2.5l-.94 2.06-2.06.94zm10 10l.94 2.06.94-2.06 2.06-.94-2.06-.94-.94-2.06-.94 2.06-2.06.94z\"/><path d=\"M17.41 7.96l-1.37-1.37c-.4-.4-.92-.59-1.43-.59-.52 0-1.04.2-1.43.59L10.3 9.45l-7.72 7.72c-.78.78-.78 2.05 0 2.83L4 21.41c.39.39.9.59 1.41.59.51 0 1.02-.2 1.41-.59l7.78-7.78 2.81-2.81c.8-.78.8-2.07 0-2.86zM5.41 20L4 18.59l7.72-7.72 1.47 1.35L5.41 20z\"/>\n",
              "  </svg>\n",
              "      </button>\n",
              "      \n",
              "  <style>\n",
              "    .colab-df-container {\n",
              "      display:flex;\n",
              "      flex-wrap:wrap;\n",
              "      gap: 12px;\n",
              "    }\n",
              "\n",
              "    .colab-df-convert {\n",
              "      background-color: #E8F0FE;\n",
              "      border: none;\n",
              "      border-radius: 50%;\n",
              "      cursor: pointer;\n",
              "      display: none;\n",
              "      fill: #1967D2;\n",
              "      height: 32px;\n",
              "      padding: 0 0 0 0;\n",
              "      width: 32px;\n",
              "    }\n",
              "\n",
              "    .colab-df-convert:hover {\n",
              "      background-color: #E2EBFA;\n",
              "      box-shadow: 0px 1px 2px rgba(60, 64, 67, 0.3), 0px 1px 3px 1px rgba(60, 64, 67, 0.15);\n",
              "      fill: #174EA6;\n",
              "    }\n",
              "\n",
              "    [theme=dark] .colab-df-convert {\n",
              "      background-color: #3B4455;\n",
              "      fill: #D2E3FC;\n",
              "    }\n",
              "\n",
              "    [theme=dark] .colab-df-convert:hover {\n",
              "      background-color: #434B5C;\n",
              "      box-shadow: 0px 1px 3px 1px rgba(0, 0, 0, 0.15);\n",
              "      filter: drop-shadow(0px 1px 2px rgba(0, 0, 0, 0.3));\n",
              "      fill: #FFFFFF;\n",
              "    }\n",
              "  </style>\n",
              "\n",
              "      <script>\n",
              "        const buttonEl =\n",
              "          document.querySelector('#df-e8b908e5-dfb5-46ea-a16b-683e19f4d384 button.colab-df-convert');\n",
              "        buttonEl.style.display =\n",
              "          google.colab.kernel.accessAllowed ? 'block' : 'none';\n",
              "\n",
              "        async function convertToInteractive(key) {\n",
              "          const element = document.querySelector('#df-e8b908e5-dfb5-46ea-a16b-683e19f4d384');\n",
              "          const dataTable =\n",
              "            await google.colab.kernel.invokeFunction('convertToInteractive',\n",
              "                                                     [key], {});\n",
              "          if (!dataTable) return;\n",
              "\n",
              "          const docLinkHtml = 'Like what you see? Visit the ' +\n",
              "            '<a target=\"_blank\" href=https://colab.research.google.com/notebooks/data_table.ipynb>data table notebook</a>'\n",
              "            + ' to learn more about interactive tables.';\n",
              "          element.innerHTML = '';\n",
              "          dataTable['output_type'] = 'display_data';\n",
              "          await google.colab.output.renderOutput(dataTable, element);\n",
              "          const docLink = document.createElement('div');\n",
              "          docLink.innerHTML = docLinkHtml;\n",
              "          element.appendChild(docLink);\n",
              "        }\n",
              "      </script>\n",
              "    </div>\n",
              "  </div>\n",
              "  "
            ]
          },
          "metadata": {},
          "execution_count": 3
        }
      ]
    },
    {
      "cell_type": "code",
      "source": [
        "df.isna().sum()"
      ],
      "metadata": {
        "colab": {
          "base_uri": "https://localhost:8080/"
        },
        "id": "JxxMEh_Fd-Um",
        "outputId": "59f7043f-520b-42e8-a207-449f835dc5a7"
      },
      "execution_count": 4,
      "outputs": [
        {
          "output_type": "execute_result",
          "data": {
            "text/plain": [
              "pos                          0\n",
              "artist_name                  0\n",
              "track_uri                    0\n",
              "artist_uri                   0\n",
              "track_name                   0\n",
              "album_uri                    0\n",
              "duration_ms                  0\n",
              "album_name                   0\n",
              "playlist_pid                 0\n",
              "name                         0\n",
              "collaborative                0\n",
              "modified_at                  0\n",
              "num_tracks                   0\n",
              "num_albums                   0\n",
              "num_followers                0\n",
              "num_edits                    0\n",
              "duration_ms_playlist         0\n",
              "num_artists                  0\n",
              "description             649904\n",
              "dtype: int64"
            ]
          },
          "metadata": {},
          "execution_count": 4
        }
      ]
    },
    {
      "cell_type": "code",
      "source": [
        "df['track_uri'].isna().sum()"
      ],
      "metadata": {
        "colab": {
          "base_uri": "https://localhost:8080/"
        },
        "id": "OY8XN_Ltew-T",
        "outputId": "770dd963-fd63-4286-bf92-65837b50e772"
      },
      "execution_count": 5,
      "outputs": [
        {
          "output_type": "execute_result",
          "data": {
            "text/plain": [
              "0"
            ]
          },
          "metadata": {},
          "execution_count": 5
        }
      ]
    },
    {
      "cell_type": "code",
      "source": [
        "df.drop_duplicates(subset = 'track_uri')['track_name'].value_counts()"
      ],
      "metadata": {
        "colab": {
          "base_uri": "https://localhost:8080/"
        },
        "id": "kXdH3kVjetVc",
        "outputId": "d57ae03a-fc07-4e8d-be2a-6811302a1dad"
      },
      "execution_count": 6,
      "outputs": [
        {
          "output_type": "execute_result",
          "data": {
            "text/plain": [
              "Home                                       89\n",
              "Silent Night                               88\n",
              "Intro                                      66\n",
              "O Holy Night                               63\n",
              "You                                        61\n",
              "                                           ..\n",
              "Early In The Morning, I'll Come Calling     1\n",
              "Down The Burning Ropes                      1\n",
              "Follow You Down To The Red Oak Tree         1\n",
              "Breaking Hearts                             1\n",
              "Dynasty - Dada Life Remix                   1\n",
              "Name: track_name, Length: 132776, dtype: int64"
            ]
          },
          "metadata": {},
          "execution_count": 6
        }
      ]
    },
    {
      "cell_type": "code",
      "source": [
        "df.to_csv('10kclean.csv', encoding='utf-8', index=False)"
      ],
      "metadata": {
        "id": "ak2z9VLhgVWx"
      },
      "execution_count": 7,
      "outputs": []
    },
    {
      "cell_type": "code",
      "source": [
        "#Creating matrix \n",
        "n_pls = df.playlist_pid.unique().shape[0]\n",
        "n_songs = df.track_uri.unique().shape[0]\n",
        "\n",
        "print(f'Num playlists: {n_pls}')\n",
        "print(f'Num unique songs: {n_songs}')\n",
        "print(f'Sparsity: {100 - float(df.shape[0]) /float(n_pls*n_songs) * 100:0.3f}%')"
      ],
      "metadata": {
        "colab": {
          "base_uri": "https://localhost:8080/"
        },
        "id": "-sSdZT5-LWDm",
        "outputId": "fcd18689-813b-4ab1-82b5-5e516eb70c14"
      },
      "execution_count": 8,
      "outputs": [
        {
          "output_type": "stream",
          "name": "stdout",
          "text": [
            "Num playlists: 10000\n",
            "Num unique songs: 169613\n",
            "Sparsity: 99.961%\n"
          ]
        }
      ]
    },
    {
      "cell_type": "code",
      "source": [
        "cols = df.playlist_pid.astype('category').cat.codes \n",
        "rows = df.track_uri.astype('category').cat.codes"
      ],
      "metadata": {
        "id": "p0pYMuC4u023"
      },
      "execution_count": 9,
      "outputs": []
    },
    {
      "cell_type": "code",
      "source": [
        "cols.unique().shape"
      ],
      "metadata": {
        "colab": {
          "base_uri": "https://localhost:8080/"
        },
        "id": "uue4wetgvBWF",
        "outputId": "70b30e5b-9a1e-4841-ce68-82bc4f12c73a"
      },
      "execution_count": 10,
      "outputs": [
        {
          "output_type": "execute_result",
          "data": {
            "text/plain": [
              "(10000,)"
            ]
          },
          "metadata": {},
          "execution_count": 10
        }
      ]
    },
    {
      "cell_type": "code",
      "source": [
        "likes = np.ones(df.shape[0]) #1s if song is in playlist\n",
        "likes = sparse.csr_matrix((likes, (rows, cols)), dtype=np.float64) #make sparse matrix"
      ],
      "metadata": {
        "id": "vB1iBuZvvFjl"
      },
      "execution_count": 11,
      "outputs": []
    },
    {
      "cell_type": "code",
      "source": [
        "print(df.groupby(by=['playlist_pid', 'track_uri']).count()['track_name'].shape)"
      ],
      "metadata": {
        "colab": {
          "base_uri": "https://localhost:8080/"
        },
        "id": "dyEIxgxFvlpA",
        "outputId": "040a179c-2129-4eaf-a4e5-000e61cd498d"
      },
      "execution_count": 12,
      "outputs": [
        {
          "output_type": "stream",
          "name": "stdout",
          "text": [
            "(655479,)\n"
          ]
        }
      ]
    },
    {
      "cell_type": "code",
      "source": [
        "print(f'min num songs in playlist: {likes.sum(axis=1).min()}')\n",
        "print(f'min num playlists song is featured in: {likes.sum(axis=0).min()}')"
      ],
      "metadata": {
        "colab": {
          "base_uri": "https://localhost:8080/"
        },
        "id": "w4-aTRNIvx9g",
        "outputId": "8a5a8f4f-3ae3-47b3-c4ab-6a5b36b5747a"
      },
      "execution_count": 13,
      "outputs": [
        {
          "output_type": "stream",
          "name": "stdout",
          "text": [
            "min num songs in playlist: 1.0\n",
            "min num playlists song is featured in: 5.0\n"
          ]
        }
      ]
    },
    {
      "cell_type": "code",
      "source": [
        "likes = likes.tocsc()"
      ],
      "metadata": {
        "id": "Nvk9WpI0z76W"
      },
      "execution_count": 14,
      "outputs": []
    },
    {
      "cell_type": "code",
      "source": [
        "def train_test_split(likes, num_to_mask, rd_seed=random.seed(0)):\n",
        "  '''\n",
        "  Make training set with masked interactions\n",
        "\n",
        "  likes: the full sparse matrix of playlist-song interactions\n",
        "  num_to_mask: how many interactions we will mask for our training set\n",
        "  rd_seed: random.seed to use, default 0\n",
        "\n",
        "  Inspired by: https://www.ethanrosenthal.com/2016/10/19/implicit-mf-part-1/\n",
        "  '''\n",
        "  #make the train and test matrices\n",
        "  #use lil matrix for efficiency\n",
        "  train = likes.copy().tolil() #copy all the data to train for later masking\n",
        "  test = likes.copy().tolil()\n",
        "  #test = sparse.lil_matrix(likes.shape, dtype=np.float64) #initialize an empty matrix\n",
        "\n",
        "  for pl in np.arange(0, likes.shape[1]): #for each playlist\n",
        "    if len(likes.getcol(pl).indices) >= 20: #playlist must have 20+ unique songs\n",
        "      #mask a random subset of 10 'likes' (1s)\n",
        "      masked_likes = np.random.choice(likes.getcol(pl).indices, \n",
        "                                        size=num_to_mask, \n",
        "                                        replace=False)\n",
        "      train[masked_likes, pl] = 0.\n",
        "\n",
        "      #mask everything but these likes in the test set\n",
        "      #scipy has shape assignment mismatch when trying to assign column values\n",
        "      #from likes matrix to test matrix, even though shapes are equivalent\n",
        "      cells_to_mask = likes.getcol(pl).indices[~np.isin(likes.getcol(pl).indices, masked_likes)]\n",
        "      test[cells_to_mask, pl] = 0.\n",
        "\n",
        "    else: #mask everything from the test set if playlist is under 20 unique songs\n",
        "      cells_to_mask = likes.getcol(pl).indices\n",
        "      test[cells_to_mask, pl] = 0.\n",
        "\n",
        "  return train.tocsc(), test.tocsc()"
      ],
      "metadata": {
        "id": "jK-BfE0S0V_J"
      },
      "execution_count": 15,
      "outputs": []
    },
    {
      "cell_type": "code",
      "source": [
        "train_set, val_set = train_test_split(likes, 10)"
      ],
      "metadata": {
        "id": "AjywiXQ10fQn"
      },
      "execution_count": 16,
      "outputs": []
    },
    {
      "cell_type": "code",
      "source": [
        "train_set, val_set"
      ],
      "metadata": {
        "colab": {
          "base_uri": "https://localhost:8080/"
        },
        "id": "HdZS39Ni0jG8",
        "outputId": "33288462-a3cd-45fe-86f8-96de66fcff78"
      },
      "execution_count": 17,
      "outputs": [
        {
          "output_type": "execute_result",
          "data": {
            "text/plain": [
              "(<169613x10000 sparse matrix of type '<class 'numpy.float64'>'\n",
              " \twith 571719 stored elements in Compressed Sparse Column format>,\n",
              " <169613x10000 sparse matrix of type '<class 'numpy.float64'>'\n",
              " \twith 83760 stored elements in Compressed Sparse Column format>)"
            ]
          },
          "metadata": {},
          "execution_count": 17
        }
      ]
    },
    {
      "cell_type": "code",
      "source": [
        "!pip install implicit"
      ],
      "metadata": {
        "colab": {
          "base_uri": "https://localhost:8080/"
        },
        "id": "2L4F7LNP0utK",
        "outputId": "9f6b2d7f-8480-4945-86a4-f5cf97a2466c"
      },
      "execution_count": 18,
      "outputs": [
        {
          "output_type": "stream",
          "name": "stdout",
          "text": [
            "Looking in indexes: https://pypi.org/simple, https://us-python.pkg.dev/colab-wheels/public/simple/\n",
            "Collecting implicit\n",
            "  Downloading implicit-0.6.1-cp38-cp38-manylinux2014_x86_64.whl (18.6 MB)\n",
            "\u001b[K     |████████████████████████████████| 18.6 MB 8.7 MB/s \n",
            "\u001b[?25hRequirement already satisfied: scipy>=0.16 in /usr/local/lib/python3.8/dist-packages (from implicit) (1.7.3)\n",
            "Requirement already satisfied: numpy in /usr/local/lib/python3.8/dist-packages (from implicit) (1.21.6)\n",
            "Requirement already satisfied: tqdm>=4.27 in /usr/local/lib/python3.8/dist-packages (from implicit) (4.64.1)\n",
            "Installing collected packages: implicit\n",
            "Successfully installed implicit-0.6.1\n"
          ]
        }
      ]
    },
    {
      "cell_type": "code",
      "source": [
        "import implicit"
      ],
      "metadata": {
        "id": "PXzWgKu10yQO"
      },
      "execution_count": 19,
      "outputs": []
    },
    {
      "cell_type": "code",
      "source": [
        "train_set"
      ],
      "metadata": {
        "colab": {
          "base_uri": "https://localhost:8080/"
        },
        "id": "_t7hsmQe00sd",
        "outputId": "147f276c-9904-4223-fb7c-49c44c819658"
      },
      "execution_count": 20,
      "outputs": [
        {
          "output_type": "execute_result",
          "data": {
            "text/plain": [
              "<169613x10000 sparse matrix of type '<class 'numpy.float64'>'\n",
              "\twith 571719 stored elements in Compressed Sparse Column format>"
            ]
          },
          "metadata": {},
          "execution_count": 20
        }
      ]
    },
    {
      "cell_type": "code",
      "source": [
        "alpha = 10\n",
        "conf_train_set = (train_set*alpha).tocsr()\n",
        "conf_train_set.dtype"
      ],
      "metadata": {
        "colab": {
          "base_uri": "https://localhost:8080/"
        },
        "id": "6Ya9tgoq04eq",
        "outputId": "7b2609b3-7530-49ea-c000-cfdec13f86fc"
      },
      "execution_count": 21,
      "outputs": [
        {
          "output_type": "execute_result",
          "data": {
            "text/plain": [
              "dtype('float64')"
            ]
          },
          "metadata": {},
          "execution_count": 21
        }
      ]
    },
    {
      "cell_type": "code",
      "source": [
        "#initialize model\n",
        "!export OPENBLAS_NUM_THREADS=1\n",
        "mf_model = implicit.als.AlternatingLeastSquares(factors=32, iterations=50)"
      ],
      "metadata": {
        "id": "2j23zMsV09eL"
      },
      "execution_count": 135,
      "outputs": []
    },
    {
      "cell_type": "code",
      "source": [
        "#make pl_index - filter out playlists that did not get any values in the test set\n",
        "def make_pl_index(train_set):\n",
        "  '''\n",
        "  returns array of indiczes of playlists that have interactions in the test set\n",
        "  '''\n",
        "  pl_index = []\n",
        "  for pl in np.arange(0, train_set.shape[1]): #for each playlist\n",
        "    if len(train_set.getcol(pl).indices) >= 10: #playlist in train_set must have 10+ songs remaining\n",
        "      pl_index.append(pl)\n",
        "\n",
        "  return np.array(pl_index)"
      ],
      "metadata": {
        "id": "47zYLt38GuYC"
      },
      "execution_count": 137,
      "outputs": []
    },
    {
      "cell_type": "code",
      "source": [
        "def R_precision(recs, mat, pl_index):\n",
        "  precision = []\n",
        "  for pl in pl_index:\n",
        "    top_k_recs = np.array(recs)[:, :500] \n",
        "    relevant_songs = mat.getcol(pl).indices\n",
        "    precision.append(float(len(np.intersect1d(top_k_recs, relevant_songs)))/relevant_songs.shape[0])\n",
        "\n",
        "  return np.mean(precision)"
      ],
      "metadata": {
        "id": "roAmJy8Oh3mJ"
      },
      "execution_count": 138,
      "outputs": []
    },
    {
      "cell_type": "code",
      "source": [
        "pl_index = make_pl_index(train_set)\n",
        "pl_index.shape"
      ],
      "metadata": {
        "colab": {
          "base_uri": "https://localhost:8080/"
        },
        "id": "9wnvywFc5FWH",
        "outputId": "59fa5639-cff3-45d0-d429-e543b2a8c5c1"
      },
      "execution_count": 27,
      "outputs": [
        {
          "output_type": "execute_result",
          "data": {
            "text/plain": [
              "(9666,)"
            ]
          },
          "metadata": {},
          "execution_count": 27
        }
      ]
    },
    {
      "cell_type": "code",
      "source": [
        "train_set.tocsr()"
      ],
      "metadata": {
        "colab": {
          "base_uri": "https://localhost:8080/"
        },
        "id": "v3CF1_FDU862",
        "outputId": "d5926888-1f8e-413c-fb9d-277c6d0ba8dd"
      },
      "execution_count": 28,
      "outputs": [
        {
          "output_type": "execute_result",
          "data": {
            "text/plain": [
              "<169613x10000 sparse matrix of type '<class 'numpy.float64'>'\n",
              "\twith 571719 stored elements in Compressed Sparse Row format>"
            ]
          },
          "metadata": {},
          "execution_count": 28
        }
      ]
    },
    {
      "cell_type": "code",
      "source": [
        "result=[]\n",
        "for j in [10,20,30]:\n",
        "  mf_model = implicit.als.AlternatingLeastSquares(factors=j, iterations=50)\n",
        "  mf_model.fit(conf_train_set)\n",
        "  recs_train=[]\n",
        "  for i in range(500):\n",
        "    recs_train.append(mf_model.recommend(i,train_set.tocsr()[i]))\n",
        "  mean_precision = R_precision(recs_train, train_set, pl_index)\n",
        "  result.append({'Nfactor':j,'r-precision':mean_precision})\n",
        "print(result)"
      ],
      "metadata": {
        "colab": {
          "base_uri": "https://localhost:8080/",
          "height": 151,
          "referenced_widgets": [
            "9326fa0909c7471fa64e670288817968",
            "fe80d8094e3645389bc455157dce56bb",
            "ba5054aebe124c0aadbf91588632c96c",
            "ada2540811f54c6caab39be40d0229ef",
            "be08b4ea8d3542dcb48944fe69c4e56d",
            "9b3c3f2ced4f4379b8e12139da12a94f",
            "59cbe8b14f684495a20518b0bbfa94fe",
            "69cb50c06d8f40688ac502bda6b73b6c",
            "e75719dabdc743cd9321a0ab29d2a6d0",
            "ecdab4268c844a2b8869332cad12cbbd",
            "f466664edd80460887dc79b28a4ce6ef",
            "a926bca322d941de9318aad62cb9f562",
            "10db850591b44b5ca8837377a1919642",
            "bc08c7dcde484ecc96548532093ee4bd",
            "a301bd01d4fd4a48a81a39cafe0b5517",
            "74e9c6c9139949a28a3c38eeeb2fdc70",
            "68630a55cee74b18a2c5907a49880a88",
            "c1c5317ae2fa45c7b14b18f570f75aad",
            "bbd96b2423454ead97c6e8236196105d",
            "7ee7a920f4f4408d9d0d673a94824d49",
            "cdc2b922855f497c849d57a2b1ef42c6",
            "b825c5e63b834e7a9bf7ec34dc0788d9",
            "ce1c374ef0db4dc69e6ef3700ecd480c",
            "a8d15f1fed264fdf92c1e74db6667b04",
            "f9b321215729426682ca71ac3c27712f",
            "de6fd36a1a524721ac909dd6fa6d255f",
            "eb9f06a4b0bf4bee9a051e91e6055748",
            "8144c9c624f249548cfacd6504981882",
            "45f3006bfd0e485ead1f6f0225848209",
            "ee1ef4aab90c462081f8e0e6ad725f2e",
            "62f9f19da6044049b598882b0d9f7b1f",
            "24667642780749aba3e7aa8f3776cf24",
            "429adde8146947d6b3c82ca0a644abde"
          ]
        },
        "id": "lownXozoWz6_",
        "outputId": "157c03bb-5d8d-4ffc-d810-a3713a5d7d65"
      },
      "execution_count": 140,
      "outputs": [
        {
          "output_type": "display_data",
          "data": {
            "text/plain": [
              "  0%|          | 0/50 [00:00<?, ?it/s]"
            ],
            "application/vnd.jupyter.widget-view+json": {
              "version_major": 2,
              "version_minor": 0,
              "model_id": "9326fa0909c7471fa64e670288817968"
            }
          },
          "metadata": {}
        },
        {
          "output_type": "display_data",
          "data": {
            "text/plain": [
              "  0%|          | 0/50 [00:00<?, ?it/s]"
            ],
            "application/vnd.jupyter.widget-view+json": {
              "version_major": 2,
              "version_minor": 0,
              "model_id": "a926bca322d941de9318aad62cb9f562"
            }
          },
          "metadata": {}
        },
        {
          "output_type": "display_data",
          "data": {
            "text/plain": [
              "  0%|          | 0/50 [00:00<?, ?it/s]"
            ],
            "application/vnd.jupyter.widget-view+json": {
              "version_major": 2,
              "version_minor": 0,
              "model_id": "ce1c374ef0db4dc69e6ef3700ecd480c"
            }
          },
          "metadata": {}
        },
        {
          "output_type": "stream",
          "name": "stdout",
          "text": [
            "[{'Nfactor': 10, 'r-precision': 0.0026968753040653593}, {'Nfactor': 20, 'r-precision': 0.004173398578845105}, {'Nfactor': 30, 'r-precision': 0.004625460690370349}]\n"
          ]
        }
      ]
    },
    {
      "cell_type": "markdown",
      "source": [
        "LightFM"
      ],
      "metadata": {
        "id": "xUAPl2kVGArf"
      }
    },
    {
      "cell_type": "code",
      "source": [
        "df.artist_uri.value_counts()"
      ],
      "metadata": {
        "colab": {
          "base_uri": "https://localhost:8080/"
        },
        "id": "-8aUYCnJxl1n",
        "outputId": "a2bce40a-d058-4f84-8eae-2b9defaec0aa"
      },
      "execution_count": 99,
      "outputs": [
        {
          "output_type": "execute_result",
          "data": {
            "text/plain": [
              "spotify:artist:3TVXtAsR1Inumwj472S9r4    8341\n",
              "spotify:artist:5K4W6rqBFWDnAN6FQUkS6x    3837\n",
              "spotify:artist:2YZyLoL8N0Wb9xBt1NhZWg    3353\n",
              "spotify:artist:5pKCCKE2ajJHZ9KAiaK11H    3141\n",
              "spotify:artist:1Xyo4u8uXC1ZmMpatF05PJ    2939\n",
              "                                         ... \n",
              "spotify:artist:2zwTFhb1SlPSuER7CMNOiV       1\n",
              "spotify:artist:0AOY0FBz2frjClgCdTWOlD       1\n",
              "spotify:artist:1Pn6pKlgzxcH6iIRp08dQr       1\n",
              "spotify:artist:34hNaRFSpaudofxFZMmfY5       1\n",
              "spotify:artist:2PmIyxmEFsNfQJjEifPDZC       1\n",
              "Name: artist_uri, Length: 35862, dtype: int64"
            ]
          },
          "metadata": {},
          "execution_count": 99
        }
      ]
    },
    {
      "cell_type": "code",
      "source": [
        "n_artist = df.artist_uri.unique().shape[0]\n",
        "print(f'Num unique artists: {n_artist}')"
      ],
      "metadata": {
        "colab": {
          "base_uri": "https://localhost:8080/"
        },
        "id": "rNYVj7bOt1Wu",
        "outputId": "b097e91f-9ca5-4eef-f175-c277db88e0a0"
      },
      "execution_count": 100,
      "outputs": [
        {
          "output_type": "stream",
          "name": "stdout",
          "text": [
            "Num unique artists: 35862\n"
          ]
        }
      ]
    },
    {
      "cell_type": "code",
      "source": [
        "n_artist_name=df.artist_name.unique().shape[0]\n",
        "print(f'Num unique artists: {n_artist}')"
      ],
      "metadata": {
        "colab": {
          "base_uri": "https://localhost:8080/"
        },
        "id": "bNoaYQQZy1hP",
        "outputId": "67aeec9d-8ec9-4dd9-8361-963d3e35f5b8"
      },
      "execution_count": 101,
      "outputs": [
        {
          "output_type": "stream",
          "name": "stdout",
          "text": [
            "Num unique artists: 35862\n"
          ]
        }
      ]
    },
    {
      "cell_type": "code",
      "source": [
        "import numpy as np \n",
        "import pandas as pd \n",
        "import warnings\n",
        "warnings.simplefilter(action='ignore', category=FutureWarning)\n",
        "from scipy import sparse\n",
        "import random\n",
        "!pip install lightfm\n",
        "import lightfm \n",
        "from lightfm import LightFM, cross_validation\n",
        "from lightfm.evaluation import precision_at_k, auc_score\n",
        "from sklearn.metrics.pairwise import cosine_similarity"
      ],
      "metadata": {
        "colab": {
          "base_uri": "https://localhost:8080/"
        },
        "id": "_NPRhxQ-jABK",
        "outputId": "dcd0bf7b-8e18-4f94-9248-6d20e8b0ec12"
      },
      "execution_count": 102,
      "outputs": [
        {
          "output_type": "stream",
          "name": "stdout",
          "text": [
            "Looking in indexes: https://pypi.org/simple, https://us-python.pkg.dev/colab-wheels/public/simple/\n",
            "Requirement already satisfied: lightfm in /usr/local/lib/python3.8/dist-packages (1.16)\n",
            "Requirement already satisfied: scipy>=0.17.0 in /usr/local/lib/python3.8/dist-packages (from lightfm) (1.7.3)\n",
            "Requirement already satisfied: numpy in /usr/local/lib/python3.8/dist-packages (from lightfm) (1.21.6)\n",
            "Requirement already satisfied: requests in /usr/local/lib/python3.8/dist-packages (from lightfm) (2.23.0)\n",
            "Requirement already satisfied: scikit-learn in /usr/local/lib/python3.8/dist-packages (from lightfm) (1.0.2)\n",
            "Requirement already satisfied: urllib3!=1.25.0,!=1.25.1,<1.26,>=1.21.1 in /usr/local/lib/python3.8/dist-packages (from requests->lightfm) (1.24.3)\n",
            "Requirement already satisfied: chardet<4,>=3.0.2 in /usr/local/lib/python3.8/dist-packages (from requests->lightfm) (3.0.4)\n",
            "Requirement already satisfied: certifi>=2017.4.17 in /usr/local/lib/python3.8/dist-packages (from requests->lightfm) (2022.9.24)\n",
            "Requirement already satisfied: idna<3,>=2.5 in /usr/local/lib/python3.8/dist-packages (from requests->lightfm) (2.10)\n",
            "Requirement already satisfied: joblib>=0.11 in /usr/local/lib/python3.8/dist-packages (from scikit-learn->lightfm) (1.2.0)\n",
            "Requirement already satisfied: threadpoolctl>=2.0.0 in /usr/local/lib/python3.8/dist-packages (from scikit-learn->lightfm) (3.1.0)\n"
          ]
        }
      ]
    },
    {
      "cell_type": "code",
      "source": [
        "df_playlist=df\n",
        "df_playlist.columns = df_playlist.columns.str.replace('\"', '')\n",
        "# df_playlist.columns = df_playlist.columns.str.replace('name', '')\n",
        "df_playlist.columns = df_playlist.columns.str.replace(' ', '')\n",
        "df_playlist.columns"
      ],
      "metadata": {
        "colab": {
          "base_uri": "https://localhost:8080/"
        },
        "id": "MniCZw5hjTeM",
        "outputId": "4797bf82-ccde-40a4-a8d4-e7bd504d77d8"
      },
      "execution_count": 103,
      "outputs": [
        {
          "output_type": "execute_result",
          "data": {
            "text/plain": [
              "Index(['pos', 'artist_name', 'track_uri', 'artist_uri', 'track_name',\n",
              "       'album_uri', 'duration_ms', 'album_name', 'playlist_pid', 'name',\n",
              "       'collaborative', 'modified_at', 'num_tracks', 'num_albums',\n",
              "       'num_followers', 'num_edits', 'duration_ms_playlist', 'num_artists',\n",
              "       'description'],\n",
              "      dtype='object')"
            ]
          },
          "metadata": {},
          "execution_count": 103
        }
      ]
    },
    {
      "cell_type": "code",
      "source": [
        "df_playlist = df_playlist.groupby('artist_name').filter(lambda x : len(x)>=50)"
      ],
      "metadata": {
        "id": "ERunRYUwjqtt"
      },
      "execution_count": 104,
      "outputs": []
    },
    {
      "cell_type": "code",
      "source": [
        "df_playlist = df_playlist[df_playlist.groupby('playlist_pid').artist_name.transform('nunique') >= 10]"
      ],
      "metadata": {
        "id": "EhkE1kg3jvhR"
      },
      "execution_count": 105,
      "outputs": []
    },
    {
      "cell_type": "code",
      "source": [
        "size = lambda x: len(x)\n",
        "df_freq = df_playlist.groupby(['playlist_pid', 'artist_name','track_uri']).agg('size').reset_index().rename(columns={0:'freq'})[['playlist_pid', 'artist_name', 'track_uri','freq']].sort_values(['freq'], ascending=False)\n",
        "df_freq.head()"
      ],
      "metadata": {
        "colab": {
          "base_uri": "https://localhost:8080/",
          "height": 206
        },
        "id": "ns-D1fRukykc",
        "outputId": "310eb1f1-8212-4b92-8f00-ef84704c265e"
      },
      "execution_count": 142,
      "outputs": [
        {
          "output_type": "execute_result",
          "data": {
            "text/plain": [
              "        playlist_pid        artist_name                             track_uri  \\\n",
              "99539           3158        Marvin Gaye  spotify:track:6c01x4nc6S52tIKjC5TKh7   \n",
              "99514           3158        Marvin Gaye  spotify:track:27hmFto0tB3dAcNWOCqyhQ   \n",
              "411250         11015  Twenty One Pilots  spotify:track:19W5OTEcQI3ZoRW1HERMyy   \n",
              "329136          8147          Lifehouse  spotify:track:7L605WhF5EGf34ggj87yK6   \n",
              "418357         11195  Twenty One Pilots  spotify:track:6i0V12jOa3mr6uu4WYhUBr   \n",
              "\n",
              "        freq  \n",
              "99539     12  \n",
              "99514      8  \n",
              "411250     8  \n",
              "329136     7  \n",
              "418357     7  "
            ],
            "text/html": [
              "\n",
              "  <div id=\"df-52924239-aa13-4a82-9c10-0388c4f71acf\">\n",
              "    <div class=\"colab-df-container\">\n",
              "      <div>\n",
              "<style scoped>\n",
              "    .dataframe tbody tr th:only-of-type {\n",
              "        vertical-align: middle;\n",
              "    }\n",
              "\n",
              "    .dataframe tbody tr th {\n",
              "        vertical-align: top;\n",
              "    }\n",
              "\n",
              "    .dataframe thead th {\n",
              "        text-align: right;\n",
              "    }\n",
              "</style>\n",
              "<table border=\"1\" class=\"dataframe\">\n",
              "  <thead>\n",
              "    <tr style=\"text-align: right;\">\n",
              "      <th></th>\n",
              "      <th>playlist_pid</th>\n",
              "      <th>artist_name</th>\n",
              "      <th>track_uri</th>\n",
              "      <th>freq</th>\n",
              "    </tr>\n",
              "  </thead>\n",
              "  <tbody>\n",
              "    <tr>\n",
              "      <th>99539</th>\n",
              "      <td>3158</td>\n",
              "      <td>Marvin Gaye</td>\n",
              "      <td>spotify:track:6c01x4nc6S52tIKjC5TKh7</td>\n",
              "      <td>12</td>\n",
              "    </tr>\n",
              "    <tr>\n",
              "      <th>99514</th>\n",
              "      <td>3158</td>\n",
              "      <td>Marvin Gaye</td>\n",
              "      <td>spotify:track:27hmFto0tB3dAcNWOCqyhQ</td>\n",
              "      <td>8</td>\n",
              "    </tr>\n",
              "    <tr>\n",
              "      <th>411250</th>\n",
              "      <td>11015</td>\n",
              "      <td>Twenty One Pilots</td>\n",
              "      <td>spotify:track:19W5OTEcQI3ZoRW1HERMyy</td>\n",
              "      <td>8</td>\n",
              "    </tr>\n",
              "    <tr>\n",
              "      <th>329136</th>\n",
              "      <td>8147</td>\n",
              "      <td>Lifehouse</td>\n",
              "      <td>spotify:track:7L605WhF5EGf34ggj87yK6</td>\n",
              "      <td>7</td>\n",
              "    </tr>\n",
              "    <tr>\n",
              "      <th>418357</th>\n",
              "      <td>11195</td>\n",
              "      <td>Twenty One Pilots</td>\n",
              "      <td>spotify:track:6i0V12jOa3mr6uu4WYhUBr</td>\n",
              "      <td>7</td>\n",
              "    </tr>\n",
              "  </tbody>\n",
              "</table>\n",
              "</div>\n",
              "      <button class=\"colab-df-convert\" onclick=\"convertToInteractive('df-52924239-aa13-4a82-9c10-0388c4f71acf')\"\n",
              "              title=\"Convert this dataframe to an interactive table.\"\n",
              "              style=\"display:none;\">\n",
              "        \n",
              "  <svg xmlns=\"http://www.w3.org/2000/svg\" height=\"24px\"viewBox=\"0 0 24 24\"\n",
              "       width=\"24px\">\n",
              "    <path d=\"M0 0h24v24H0V0z\" fill=\"none\"/>\n",
              "    <path d=\"M18.56 5.44l.94 2.06.94-2.06 2.06-.94-2.06-.94-.94-2.06-.94 2.06-2.06.94zm-11 1L8.5 8.5l.94-2.06 2.06-.94-2.06-.94L8.5 2.5l-.94 2.06-2.06.94zm10 10l.94 2.06.94-2.06 2.06-.94-2.06-.94-.94-2.06-.94 2.06-2.06.94z\"/><path d=\"M17.41 7.96l-1.37-1.37c-.4-.4-.92-.59-1.43-.59-.52 0-1.04.2-1.43.59L10.3 9.45l-7.72 7.72c-.78.78-.78 2.05 0 2.83L4 21.41c.39.39.9.59 1.41.59.51 0 1.02-.2 1.41-.59l7.78-7.78 2.81-2.81c.8-.78.8-2.07 0-2.86zM5.41 20L4 18.59l7.72-7.72 1.47 1.35L5.41 20z\"/>\n",
              "  </svg>\n",
              "      </button>\n",
              "      \n",
              "  <style>\n",
              "    .colab-df-container {\n",
              "      display:flex;\n",
              "      flex-wrap:wrap;\n",
              "      gap: 12px;\n",
              "    }\n",
              "\n",
              "    .colab-df-convert {\n",
              "      background-color: #E8F0FE;\n",
              "      border: none;\n",
              "      border-radius: 50%;\n",
              "      cursor: pointer;\n",
              "      display: none;\n",
              "      fill: #1967D2;\n",
              "      height: 32px;\n",
              "      padding: 0 0 0 0;\n",
              "      width: 32px;\n",
              "    }\n",
              "\n",
              "    .colab-df-convert:hover {\n",
              "      background-color: #E2EBFA;\n",
              "      box-shadow: 0px 1px 2px rgba(60, 64, 67, 0.3), 0px 1px 3px 1px rgba(60, 64, 67, 0.15);\n",
              "      fill: #174EA6;\n",
              "    }\n",
              "\n",
              "    [theme=dark] .colab-df-convert {\n",
              "      background-color: #3B4455;\n",
              "      fill: #D2E3FC;\n",
              "    }\n",
              "\n",
              "    [theme=dark] .colab-df-convert:hover {\n",
              "      background-color: #434B5C;\n",
              "      box-shadow: 0px 1px 3px 1px rgba(0, 0, 0, 0.15);\n",
              "      filter: drop-shadow(0px 1px 2px rgba(0, 0, 0, 0.3));\n",
              "      fill: #FFFFFF;\n",
              "    }\n",
              "  </style>\n",
              "\n",
              "      <script>\n",
              "        const buttonEl =\n",
              "          document.querySelector('#df-52924239-aa13-4a82-9c10-0388c4f71acf button.colab-df-convert');\n",
              "        buttonEl.style.display =\n",
              "          google.colab.kernel.accessAllowed ? 'block' : 'none';\n",
              "\n",
              "        async function convertToInteractive(key) {\n",
              "          const element = document.querySelector('#df-52924239-aa13-4a82-9c10-0388c4f71acf');\n",
              "          const dataTable =\n",
              "            await google.colab.kernel.invokeFunction('convertToInteractive',\n",
              "                                                     [key], {});\n",
              "          if (!dataTable) return;\n",
              "\n",
              "          const docLinkHtml = 'Like what you see? Visit the ' +\n",
              "            '<a target=\"_blank\" href=https://colab.research.google.com/notebooks/data_table.ipynb>data table notebook</a>'\n",
              "            + ' to learn more about interactive tables.';\n",
              "          element.innerHTML = '';\n",
              "          dataTable['output_type'] = 'display_data';\n",
              "          await google.colab.output.renderOutput(dataTable, element);\n",
              "          const docLink = document.createElement('div');\n",
              "          docLink.innerHTML = docLinkHtml;\n",
              "          element.appendChild(docLink);\n",
              "        }\n",
              "      </script>\n",
              "    </div>\n",
              "  </div>\n",
              "  "
            ]
          },
          "metadata": {},
          "execution_count": 142
        }
      ]
    },
    {
      "cell_type": "code",
      "source": [
        "df_track = pd.DataFrame(df_freq[\"artist_name\"].unique())\n",
        "df_track = df_track.reset_index()\n",
        "df_track = df_track.rename(columns={'index':'artist_id', 0:'artist_name'})\n",
        "df_freq  = pd.merge(df_freq ,df_track, how='inner', on='artist_name')"
      ],
      "metadata": {
        "id": "pTNtOXQ4lEQ9"
      },
      "execution_count": 173,
      "outputs": []
    },
    {
      "cell_type": "code",
      "source": [
        "df_freq"
      ],
      "metadata": {
        "colab": {
          "base_uri": "https://localhost:8080/",
          "height": 424
        },
        "id": "EafFX0fe-oy3",
        "outputId": "cb36e668-626b-48f2-cbbd-77e2a1226078"
      },
      "execution_count": 174,
      "outputs": [
        {
          "output_type": "execute_result",
          "data": {
            "text/plain": [
              "        playlist_pid           artist_name  \\\n",
              "0               3158           Marvin Gaye   \n",
              "1               3158           Marvin Gaye   \n",
              "2               6288           Marvin Gaye   \n",
              "3               3158           Marvin Gaye   \n",
              "4               3158           Marvin Gaye   \n",
              "...              ...                   ...   \n",
              "455073          5269  Hope College Worship   \n",
              "455074          5269  Hope College Worship   \n",
              "455075          5269  Hope College Worship   \n",
              "455076          5229        Los Temerarios   \n",
              "455077          4951                 Ahmir   \n",
              "\n",
              "                                 track_uri_x  freq  artist_id_x  track_uri_y  \\\n",
              "0       spotify:track:6c01x4nc6S52tIKjC5TKh7    12            0            0   \n",
              "1       spotify:track:27hmFto0tB3dAcNWOCqyhQ     8            0            0   \n",
              "2       spotify:track:2H3ZUSE54pST4ubRd5FzFR     3            0            0   \n",
              "3       spotify:track:1CAbtyVgGvdW3dhNejIHlS     3            0            0   \n",
              "4       spotify:track:2HEbCul29U674Gml0Zf0DU     3            0            0   \n",
              "...                                      ...   ...          ...          ...   \n",
              "455073  spotify:track:0yZDfW62GzjHlkL4sdoUmV     1         2072         2072   \n",
              "455074  spotify:track:0xOtEP3RAjd2PKYBouRWaC     1         2072         2072   \n",
              "455075  spotify:track:0rwVoCzT7vEN2TavpTIhdM     1         2072         2072   \n",
              "455076  spotify:track:25xeGvjWvTBu8RkEF8kRQr     1         2073         2073   \n",
              "455077  spotify:track:0fKc6Jbs7jz0IjX38bVM4r     1         2074         2074   \n",
              "\n",
              "        artist_id_y  \n",
              "0                 0  \n",
              "1                 0  \n",
              "2                 0  \n",
              "3                 0  \n",
              "4                 0  \n",
              "...             ...  \n",
              "455073         2072  \n",
              "455074         2072  \n",
              "455075         2072  \n",
              "455076         2073  \n",
              "455077         2074  \n",
              "\n",
              "[455078 rows x 7 columns]"
            ],
            "text/html": [
              "\n",
              "  <div id=\"df-5e1c8ef0-2d80-48a8-a886-5432c08ec8aa\">\n",
              "    <div class=\"colab-df-container\">\n",
              "      <div>\n",
              "<style scoped>\n",
              "    .dataframe tbody tr th:only-of-type {\n",
              "        vertical-align: middle;\n",
              "    }\n",
              "\n",
              "    .dataframe tbody tr th {\n",
              "        vertical-align: top;\n",
              "    }\n",
              "\n",
              "    .dataframe thead th {\n",
              "        text-align: right;\n",
              "    }\n",
              "</style>\n",
              "<table border=\"1\" class=\"dataframe\">\n",
              "  <thead>\n",
              "    <tr style=\"text-align: right;\">\n",
              "      <th></th>\n",
              "      <th>playlist_pid</th>\n",
              "      <th>artist_name</th>\n",
              "      <th>track_uri_x</th>\n",
              "      <th>freq</th>\n",
              "      <th>artist_id_x</th>\n",
              "      <th>track_uri_y</th>\n",
              "      <th>artist_id_y</th>\n",
              "    </tr>\n",
              "  </thead>\n",
              "  <tbody>\n",
              "    <tr>\n",
              "      <th>0</th>\n",
              "      <td>3158</td>\n",
              "      <td>Marvin Gaye</td>\n",
              "      <td>spotify:track:6c01x4nc6S52tIKjC5TKh7</td>\n",
              "      <td>12</td>\n",
              "      <td>0</td>\n",
              "      <td>0</td>\n",
              "      <td>0</td>\n",
              "    </tr>\n",
              "    <tr>\n",
              "      <th>1</th>\n",
              "      <td>3158</td>\n",
              "      <td>Marvin Gaye</td>\n",
              "      <td>spotify:track:27hmFto0tB3dAcNWOCqyhQ</td>\n",
              "      <td>8</td>\n",
              "      <td>0</td>\n",
              "      <td>0</td>\n",
              "      <td>0</td>\n",
              "    </tr>\n",
              "    <tr>\n",
              "      <th>2</th>\n",
              "      <td>6288</td>\n",
              "      <td>Marvin Gaye</td>\n",
              "      <td>spotify:track:2H3ZUSE54pST4ubRd5FzFR</td>\n",
              "      <td>3</td>\n",
              "      <td>0</td>\n",
              "      <td>0</td>\n",
              "      <td>0</td>\n",
              "    </tr>\n",
              "    <tr>\n",
              "      <th>3</th>\n",
              "      <td>3158</td>\n",
              "      <td>Marvin Gaye</td>\n",
              "      <td>spotify:track:1CAbtyVgGvdW3dhNejIHlS</td>\n",
              "      <td>3</td>\n",
              "      <td>0</td>\n",
              "      <td>0</td>\n",
              "      <td>0</td>\n",
              "    </tr>\n",
              "    <tr>\n",
              "      <th>4</th>\n",
              "      <td>3158</td>\n",
              "      <td>Marvin Gaye</td>\n",
              "      <td>spotify:track:2HEbCul29U674Gml0Zf0DU</td>\n",
              "      <td>3</td>\n",
              "      <td>0</td>\n",
              "      <td>0</td>\n",
              "      <td>0</td>\n",
              "    </tr>\n",
              "    <tr>\n",
              "      <th>...</th>\n",
              "      <td>...</td>\n",
              "      <td>...</td>\n",
              "      <td>...</td>\n",
              "      <td>...</td>\n",
              "      <td>...</td>\n",
              "      <td>...</td>\n",
              "      <td>...</td>\n",
              "    </tr>\n",
              "    <tr>\n",
              "      <th>455073</th>\n",
              "      <td>5269</td>\n",
              "      <td>Hope College Worship</td>\n",
              "      <td>spotify:track:0yZDfW62GzjHlkL4sdoUmV</td>\n",
              "      <td>1</td>\n",
              "      <td>2072</td>\n",
              "      <td>2072</td>\n",
              "      <td>2072</td>\n",
              "    </tr>\n",
              "    <tr>\n",
              "      <th>455074</th>\n",
              "      <td>5269</td>\n",
              "      <td>Hope College Worship</td>\n",
              "      <td>spotify:track:0xOtEP3RAjd2PKYBouRWaC</td>\n",
              "      <td>1</td>\n",
              "      <td>2072</td>\n",
              "      <td>2072</td>\n",
              "      <td>2072</td>\n",
              "    </tr>\n",
              "    <tr>\n",
              "      <th>455075</th>\n",
              "      <td>5269</td>\n",
              "      <td>Hope College Worship</td>\n",
              "      <td>spotify:track:0rwVoCzT7vEN2TavpTIhdM</td>\n",
              "      <td>1</td>\n",
              "      <td>2072</td>\n",
              "      <td>2072</td>\n",
              "      <td>2072</td>\n",
              "    </tr>\n",
              "    <tr>\n",
              "      <th>455076</th>\n",
              "      <td>5229</td>\n",
              "      <td>Los Temerarios</td>\n",
              "      <td>spotify:track:25xeGvjWvTBu8RkEF8kRQr</td>\n",
              "      <td>1</td>\n",
              "      <td>2073</td>\n",
              "      <td>2073</td>\n",
              "      <td>2073</td>\n",
              "    </tr>\n",
              "    <tr>\n",
              "      <th>455077</th>\n",
              "      <td>4951</td>\n",
              "      <td>Ahmir</td>\n",
              "      <td>spotify:track:0fKc6Jbs7jz0IjX38bVM4r</td>\n",
              "      <td>1</td>\n",
              "      <td>2074</td>\n",
              "      <td>2074</td>\n",
              "      <td>2074</td>\n",
              "    </tr>\n",
              "  </tbody>\n",
              "</table>\n",
              "<p>455078 rows × 7 columns</p>\n",
              "</div>\n",
              "      <button class=\"colab-df-convert\" onclick=\"convertToInteractive('df-5e1c8ef0-2d80-48a8-a886-5432c08ec8aa')\"\n",
              "              title=\"Convert this dataframe to an interactive table.\"\n",
              "              style=\"display:none;\">\n",
              "        \n",
              "  <svg xmlns=\"http://www.w3.org/2000/svg\" height=\"24px\"viewBox=\"0 0 24 24\"\n",
              "       width=\"24px\">\n",
              "    <path d=\"M0 0h24v24H0V0z\" fill=\"none\"/>\n",
              "    <path d=\"M18.56 5.44l.94 2.06.94-2.06 2.06-.94-2.06-.94-.94-2.06-.94 2.06-2.06.94zm-11 1L8.5 8.5l.94-2.06 2.06-.94-2.06-.94L8.5 2.5l-.94 2.06-2.06.94zm10 10l.94 2.06.94-2.06 2.06-.94-2.06-.94-.94-2.06-.94 2.06-2.06.94z\"/><path d=\"M17.41 7.96l-1.37-1.37c-.4-.4-.92-.59-1.43-.59-.52 0-1.04.2-1.43.59L10.3 9.45l-7.72 7.72c-.78.78-.78 2.05 0 2.83L4 21.41c.39.39.9.59 1.41.59.51 0 1.02-.2 1.41-.59l7.78-7.78 2.81-2.81c.8-.78.8-2.07 0-2.86zM5.41 20L4 18.59l7.72-7.72 1.47 1.35L5.41 20z\"/>\n",
              "  </svg>\n",
              "      </button>\n",
              "      \n",
              "  <style>\n",
              "    .colab-df-container {\n",
              "      display:flex;\n",
              "      flex-wrap:wrap;\n",
              "      gap: 12px;\n",
              "    }\n",
              "\n",
              "    .colab-df-convert {\n",
              "      background-color: #E8F0FE;\n",
              "      border: none;\n",
              "      border-radius: 50%;\n",
              "      cursor: pointer;\n",
              "      display: none;\n",
              "      fill: #1967D2;\n",
              "      height: 32px;\n",
              "      padding: 0 0 0 0;\n",
              "      width: 32px;\n",
              "    }\n",
              "\n",
              "    .colab-df-convert:hover {\n",
              "      background-color: #E2EBFA;\n",
              "      box-shadow: 0px 1px 2px rgba(60, 64, 67, 0.3), 0px 1px 3px 1px rgba(60, 64, 67, 0.15);\n",
              "      fill: #174EA6;\n",
              "    }\n",
              "\n",
              "    [theme=dark] .colab-df-convert {\n",
              "      background-color: #3B4455;\n",
              "      fill: #D2E3FC;\n",
              "    }\n",
              "\n",
              "    [theme=dark] .colab-df-convert:hover {\n",
              "      background-color: #434B5C;\n",
              "      box-shadow: 0px 1px 3px 1px rgba(0, 0, 0, 0.15);\n",
              "      filter: drop-shadow(0px 1px 2px rgba(0, 0, 0, 0.3));\n",
              "      fill: #FFFFFF;\n",
              "    }\n",
              "  </style>\n",
              "\n",
              "      <script>\n",
              "        const buttonEl =\n",
              "          document.querySelector('#df-5e1c8ef0-2d80-48a8-a886-5432c08ec8aa button.colab-df-convert');\n",
              "        buttonEl.style.display =\n",
              "          google.colab.kernel.accessAllowed ? 'block' : 'none';\n",
              "\n",
              "        async function convertToInteractive(key) {\n",
              "          const element = document.querySelector('#df-5e1c8ef0-2d80-48a8-a886-5432c08ec8aa');\n",
              "          const dataTable =\n",
              "            await google.colab.kernel.invokeFunction('convertToInteractive',\n",
              "                                                     [key], {});\n",
              "          if (!dataTable) return;\n",
              "\n",
              "          const docLinkHtml = 'Like what you see? Visit the ' +\n",
              "            '<a target=\"_blank\" href=https://colab.research.google.com/notebooks/data_table.ipynb>data table notebook</a>'\n",
              "            + ' to learn more about interactive tables.';\n",
              "          element.innerHTML = '';\n",
              "          dataTable['output_type'] = 'display_data';\n",
              "          await google.colab.output.renderOutput(dataTable, element);\n",
              "          const docLink = document.createElement('div');\n",
              "          docLink.innerHTML = docLinkHtml;\n",
              "          element.appendChild(docLink);\n",
              "        }\n",
              "      </script>\n",
              "    </div>\n",
              "  </div>\n",
              "  "
            ]
          },
          "metadata": {},
          "execution_count": 174
        }
      ]
    },
    {
      "cell_type": "code",
      "source": [
        "df_track.shape"
      ],
      "metadata": {
        "colab": {
          "base_uri": "https://localhost:8080/"
        },
        "id": "_r6wCpOZlmur",
        "outputId": "7ea6af72-5e9b-47b2-ac59-74619cbd9c45"
      },
      "execution_count": 175,
      "outputs": [
        {
          "output_type": "execute_result",
          "data": {
            "text/plain": [
              "(2075, 2)"
            ]
          },
          "metadata": {},
          "execution_count": 175
        }
      ]
    },
    {
      "cell_type": "code",
      "source": [
        "# def create_interaction_matrix(df,user_col, item_col, rating_col, norm= False, threshold = None):\n",
        "#     '''\n",
        "#     Function to create an interaction matrix dataframe from transactional type interactions\n",
        "#     Required Input -\n",
        "#         - df = Pandas DataFrame containing user-item interactions\n",
        "#         - user_col = column name containing user's identifier\n",
        "#         - item_col = column name containing item's identifier\n",
        "#         - rating col = column name containing user feedback on interaction with a given item\n",
        "#         - norm (optional) = True if a normalization of ratings is needed\n",
        "#         - threshold (required if norm = True) = value above which the rating is favorable\n",
        "#     Expected output - \n",
        "#         - Pandas dataframe with user-item interactions ready to be fed in a recommendation algorithm\n",
        "#     '''\n",
        "#     interactions = df.groupby([user_col, item_col])[rating_col] \\\n",
        "#             .sum().unstack().reset_index(). \\\n",
        "#             fillna(0).set_index(user_col)\n",
        "#     if norm:\n",
        "#         interactions = interactions.applymap(lambda x: 1 if x > threshold else 0)\n",
        "#     return interactions"
      ],
      "metadata": {
        "id": "SrsUOFZ3ltpY"
      },
      "execution_count": 176,
      "outputs": []
    },
    {
      "cell_type": "code",
      "source": [
        "for i in [0.01,0.05,0.1]:\n",
        "  model = LightFM(learning_rate=i, loss='bpr')\n",
        "  model.fit(train_set, epochs=10)\n",
        "  train_precision = precision_at_k(model, train_set, k=10).mean()\n",
        "  train_auc = auc_score(model, train_set).mean()\n",
        "  test_auc = auc_score(model, val_set).mean()\n",
        "  print('learning rate: %.2f'%(i))\n",
        "  print('Precision: train %.2f' % (train_precision))\n",
        "  print('AUC: train %.2f, test %.2f.' % (train_auc, test_auc))\n"
      ],
      "metadata": {
        "colab": {
          "base_uri": "https://localhost:8080/"
        },
        "id": "xFRqtD_cAYgC",
        "outputId": "c6ce8423-9171-4646-8a36-b83397209b98"
      },
      "execution_count": 187,
      "outputs": [
        {
          "output_type": "stream",
          "name": "stdout",
          "text": [
            "learning rate: 0.01\n",
            "Precision: train 0.00\n",
            "AUC: train 0.51, test 0.49.\n",
            "learning rate: 0.05\n",
            "Precision: train 0.03\n",
            "AUC: train 0.91, test 0.77.\n",
            "learning rate: 0.10\n",
            "Precision: train 0.06\n",
            "AUC: train 0.97, test 0.83.\n"
          ]
        }
      ]
    }
  ]
}