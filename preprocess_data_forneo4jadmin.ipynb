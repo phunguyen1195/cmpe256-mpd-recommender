{
 "cells": [
  {
   "cell_type": "code",
   "execution_count": 30,
   "id": "86fd534f",
   "metadata": {},
   "outputs": [],
   "source": [
    "import json\n",
    "import pandas as pd\n",
    "import glob\n",
    "from pathlib import Path\n",
    "import networkx as nx\n",
    "import matplotlib.pyplot as plt\n",
    "import sys\n",
    "import re\n",
    "import collections\n",
    "import os\n",
    "import datetime\n",
    "from pyspark.sql import SparkSession\n",
    "from pyspark.sql.functions import lit\n"
   ]
  },
  {
   "cell_type": "code",
   "execution_count": 2,
   "id": "b6d67004",
   "metadata": {},
   "outputs": [],
   "source": [
    "total_playlists = 0\n",
    "total_tracks = 0\n",
    "tracks = set()\n",
    "artists = set()\n",
    "albums = set()\n",
    "titles = set()\n",
    "total_descriptions = 0\n",
    "ntitles = set()\n",
    "title_histogram = collections.Counter()\n",
    "artist_histogram = collections.Counter()\n",
    "track_histogram = collections.Counter()\n",
    "last_modified_histogram = collections.Counter()\n",
    "num_edits_histogram = collections.Counter()\n",
    "playlist_length_histogram = collections.Counter()\n",
    "num_followers_histogram = collections.Counter()\n",
    "\n",
    "quick = False\n",
    "max_files_for_quick_processing = 5"
   ]
  },
  {
   "cell_type": "code",
   "execution_count": 4,
   "id": "16434376",
   "metadata": {},
   "outputs": [],
   "source": [
    "def normalize_name(name):\n",
    "    name = name.lower()\n",
    "    name = re.sub(r\"[.,\\/#!$%\\^\\*;:{}=\\_`~()@]\", \" \", name)\n",
    "    name = re.sub(r\"\\s+\", \" \", name).strip()\n",
    "    return name\n",
    "\n",
    "\n",
    "def to_date(epoch):\n",
    "    return datetime.datetime.fromtimestamp(epoch).strftime(\"%Y-%m-%d\")\n",
    "\n",
    "\n",
    "def process_playlist(playlist):\n",
    "    global total_playlists, total_tracks, total_descriptions\n",
    "\n",
    "    total_playlists += 1\n",
    "    # print playlist['playlist_id'], playlist['name']\n",
    "\n",
    "    if \"description\" in playlist:\n",
    "        total_descriptions += 1\n",
    "\n",
    "    titles.add(playlist[\"name\"])\n",
    "    nname = normalize_name(playlist[\"name\"])\n",
    "    ntitles.add(nname)\n",
    "    title_histogram[nname] += 1\n",
    "\n",
    "    playlist_length_histogram[playlist[\"num_tracks\"]] += 1\n",
    "    last_modified_histogram[playlist[\"modified_at\"]] += 1\n",
    "    num_edits_histogram[playlist[\"num_edits\"]] += 1\n",
    "    num_followers_histogram[playlist[\"num_followers\"]] += 1\n",
    "\n",
    "    for track in playlist[\"tracks\"]:\n",
    "        total_tracks += 1\n",
    "        albums.add(track[\"album_uri\"])\n",
    "        tracks.add(track[\"track_uri\"])\n",
    "        artists.add(track[\"artist_uri\"])\n",
    "\n",
    "        full_name = track[\"track_name\"] + \" by \" + track[\"artist_name\"]\n",
    "        artist_histogram[track[\"artist_name\"]] += 1\n",
    "        track_histogram[full_name] += 1\n",
    "\n",
    "\n",
    "def process_info(_):\n",
    "    pass\n",
    "\n",
    "def process_mpd(path):\n",
    "    count = 0\n",
    "    filenames = os.listdir(path)\n",
    "    for filename in sorted(filenames):\n",
    "        if filename.startswith(\"mpd.slice.\") and filename.endswith(\".json\"):\n",
    "            fullpath = os.sep.join((path, filename))\n",
    "            f = open(fullpath)\n",
    "            js = f.read()\n",
    "            f.close()\n",
    "            mpd_slice = json.loads(js)\n",
    "            process_info(mpd_slice[\"info\"])\n",
    "            for playlist in mpd_slice[\"playlists\"]:\n",
    "                process_playlist(playlist)\n",
    "            count += 1\n",
    "\n",
    "            if quick and count > max_files_for_quick_processing:\n",
    "                break"
   ]
  },
  {
   "cell_type": "code",
   "execution_count": 9,
   "id": "5574223d",
   "metadata": {},
   "outputs": [
    {
     "name": "stdout",
     "output_type": "stream",
     "text": [
      "22/11/20 12:36:52 WARN Utils: Your hostname, phu-ThinkPad-T480 resolves to a loopback address: 127.0.1.1; using 192.168.0.22 instead (on interface wlp3s0)\n",
      "22/11/20 12:36:52 WARN Utils: Set SPARK_LOCAL_IP if you need to bind to another address\n"
     ]
    },
    {
     "name": "stderr",
     "output_type": "stream",
     "text": [
      "Setting default log level to \"WARN\".\n",
      "To adjust logging level use sc.setLogLevel(newLevel). For SparkR, use setLogLevel(newLevel).\n"
     ]
    },
    {
     "name": "stdout",
     "output_type": "stream",
     "text": [
      "22/11/20 12:36:54 WARN NativeCodeLoader: Unable to load native-hadoop library for your platform... using builtin-java classes where applicable\n"
     ]
    }
   ],
   "source": [
    "spark = SparkSession.builder.master(\"local\") \\\n",
    "    .appName(\"SparkByExamples.com\") \\\n",
    "    .getOrCreate()"
   ]
  },
  {
   "cell_type": "code",
   "execution_count": 42,
   "id": "1700e1e8",
   "metadata": {},
   "outputs": [],
   "source": [
    "df = spark.read.option(\"header\",True).csv(\"data_smaller\")"
   ]
  },
  {
   "cell_type": "code",
   "execution_count": 43,
   "id": "9d7a81ed",
   "metadata": {},
   "outputs": [
    {
     "name": "stderr",
     "output_type": "stream",
     "text": [
      "[Stage 33:>                                                         (0 + 1) / 1]\r"
     ]
    }
   ],
   "source": [
    "df.write.option(\"header\",True) \\\n",
    " .csv(\"data_for_neo4jadmin/combined_data\")"
   ]
  },
  {
   "cell_type": "code",
   "execution_count": 38,
   "id": "419df657",
   "metadata": {},
   "outputs": [],
   "source": [
    "df_track_node = df.select('track_uri','track_name','duration_ms').distinct()"
   ]
  },
  {
   "cell_type": "code",
   "execution_count": 41,
   "id": "c624e856",
   "metadata": {},
   "outputs": [
    {
     "name": "stdout",
     "output_type": "stream",
     "text": [
      "root\n",
      " |-- track_uri: string (nullable = true)\n",
      " |-- track_name: string (nullable = true)\n",
      " |-- duration_ms: string (nullable = true)\n",
      "\n"
     ]
    }
   ],
   "source": [
    "df_track_node.printSchema()"
   ]
  },
  {
   "cell_type": "code",
   "execution_count": 31,
   "id": "267f64d8",
   "metadata": {},
   "outputs": [],
   "source": [
    "df_track_node = df.select('track_uri','track_name','duration_ms')\n",
    "df_track_node = df_track_node.withColumn(\"label\", lit(\"Track\"))\n",
    "df_track_node.write.option(\"header\",False) \\\n",
    " .csv(\"data_for_neo4jadmin/Tracks\")"
   ]
  },
  {
   "cell_type": "code",
   "execution_count": 35,
   "id": "0ccba85f",
   "metadata": {},
   "outputs": [],
   "source": [
    "df_playlist_node = df.select(\"playlist_pid\",\"name\",\"collaborative\", \\\n",
    "\"modified_at\",\"num_tracks\",\"num_albums\",\"num_followers\",\"num_edits\", \\\n",
    "\"duration_ms_playlist\",\"num_artists\",\"description\")"
   ]
  },
  {
   "cell_type": "code",
   "execution_count": 37,
   "id": "c6f2aebf",
   "metadata": {},
   "outputs": [
    {
     "name": "stderr",
     "output_type": "stream",
     "text": [
      "[Stage 26:>                                                         (0 + 1) / 1]\r"
     ]
    },
    {
     "name": "stdout",
     "output_type": "stream",
     "text": [
      "+--------------------+--------------+-------------+-----------+----------+----------+-------------+---------+--------------------+-----------+-----------+\n",
      "|        playlist_pid|          name|collaborative|modified_at|num_tracks|num_albums|num_followers|num_edits|duration_ms_playlist|num_artists|description|\n",
      "+--------------------+--------------+-------------+-----------+----------+----------+-------------+---------+--------------------+-----------+-----------+\n",
      "|                 104|          JAMS|        false| 1458604800|        65|        30|            1|        7|            15475350|         26|       null|\n",
      "|                 111|       country|        false| 1507420800|        24|        20|            1|       13|             5198964|         16|       null|\n",
      "|                 441|     chill out|        false| 1462665600|       203|       176|            4|       46|            49593533|        141|       null|\n",
      "|                 762|    Gospel Mix|        false| 1506816000|        45|        33|            1|       17|            12776721|         20|       null|\n",
      "|                 921|          Rock|        false| 1480636800|       112|        57|            1|        9|            25827393|         35|       null|\n",
      "|              516107|           yuh|        false| 1465257600|        14|        14|            1|        6|             3049010|         12|       null|\n",
      "|              516499|      peaceful|        false| 1468800000|         7|         5|            1|        3|             1965890|          4|       null|\n",
      "|              516652|        lovely|        false| 1505606400|        10|         7|            1|        7|             2317142|          4|       null|\n",
      "|              516683|  Palm springs|        false| 1400976000|        32|        29|            1|        5|             7813216|         20|       null|\n",
      "|              516847|     Childhood|        false| 1508112000|        35|        28|            1|        3|             8081768|         16|       null|\n",
      "|Callas sings Oper...|        516874|        Opera|      false|1369180800|        21|           18|        1|                   3|    5715380|          6|\n",
      "|              516919|good morning!!|        false| 1492819200|        18|        18|            1|        4|             4080059|         17|       null|\n",
      "|              290413|            ❤️|        false| 1508198400|       102|        81|            1|       50|            21803018|         70|       null|\n",
      "|              290660|           90s|        false| 1506297600|        45|        37|            2|       16|            11362314|         33|       null|\n",
      "|              290708|     dad music|        false| 1432252800|        16|        13|            1|        3|             3816462|          7|       null|\n",
      "|              290746|    pump it up|        false| 1506729600|        78|        70|            1|        9|            18634414|         48|       null|\n",
      "|              290893|       Clubbin|        false| 1506297600|       113|        92|            1|       46|            24801290|         47|       null|\n",
      "|              341030|    Good songs|        false| 1505606400|        24|        24|            1|        4|             5456346|         22|       null|\n",
      "|              341054|    ReMastered|         true| 1479686400|        14|        14|            2|        6|             3585655|         14|       null|\n",
      "|              341090|           EDM|        false| 1498608000|        30|        26|            1|       14|             6828241|         21|       null|\n",
      "+--------------------+--------------+-------------+-----------+----------+----------+-------------+---------+--------------------+-----------+-----------+\n",
      "only showing top 20 rows\n",
      "\n"
     ]
    },
    {
     "name": "stderr",
     "output_type": "stream",
     "text": [
      "                                                                                \r"
     ]
    }
   ],
   "source": [
    "df_playlist_node.distinct().show()"
   ]
  }
 ],
 "metadata": {
  "kernelspec": {
   "display_name": "Python (cmpe258)",
   "language": "python",
   "name": "cmpe258"
  },
  "language_info": {
   "codemirror_mode": {
    "name": "ipython",
    "version": 3
   },
   "file_extension": ".py",
   "mimetype": "text/x-python",
   "name": "python",
   "nbconvert_exporter": "python",
   "pygments_lexer": "ipython3",
   "version": "3.9.7"
  }
 },
 "nbformat": 4,
 "nbformat_minor": 5
}
